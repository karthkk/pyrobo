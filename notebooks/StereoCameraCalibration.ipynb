{
 "cells": [
  {
   "cell_type": "code",
   "execution_count": 1,
   "metadata": {
    "collapsed": true
   },
   "outputs": [],
   "source": [
    "import cv2\n",
    "import os"
   ]
  },
  {
   "cell_type": "code",
   "execution_count": 2,
   "metadata": {
    "collapsed": true
   },
   "outputs": [],
   "source": [
    "import pylibcam"
   ]
  },
  {
   "cell_type": "code",
   "execution_count": 3,
   "metadata": {
    "collapsed": false
   },
   "outputs": [],
   "source": [
    "import time\n",
    "\n",
    "def save_as_png(img, base_dir, current_id, cam):\n",
    "    file_name = '%s_%2.2d.jpg'%(cam, current_id)\n",
    "    fqn = os.path.join(base_dir, file_name)\n",
    "    cv2.imwrite(fqn, img)\n",
    "    print \"Saved image to \" + fqn\n",
    "\n",
    "def grab_images(chessboard_dimensions,  n=20, base_dir='/tmp/images' ):\n",
    "    cam_1 = pylibcam.PyCamera('/dev/video1', 640, 480, 5)\n",
    "    cam_2 = pylibcam.PyCamera('/dev/video2', 640, 480, 5)\n",
    "\n",
    "    try:\n",
    "        cam_1.setExposure(1)\n",
    "        cam_2.setExposure(1)\n",
    "        cam_1.setBrightness(1)\n",
    "        cam_2.setBrightness(1)\n",
    "        for i in range(4):\n",
    "            time.sleep(2)\n",
    "            cam_1.update(25,1000)\n",
    "            cam_2.update(25,1000)\n",
    "\n",
    "        attempt = 0\n",
    "        current_id = 0\n",
    "        while current_id < 20:\n",
    "            attempt+=1\n",
    "            time.sleep(2)\n",
    "            cam_1.update(25,1000)\n",
    "            cam_2.update(25,1000)\n",
    "            img_1 = cam_1.toRGB()\n",
    "            img_2 = cam_1.toRGB()\n",
    "            gray_1 = cv2.cvtColor(img_1, cv2.COLOR_RGB2GRAY)\n",
    "            gray_2 = cv2.cvtColor(img_2, cv2.COLOR_RGB2GRAY)\n",
    "            ret_1, corners_1 = cv2.findChessboardCorners(gray_1, chessboard_dimensions,None)\n",
    "            ret_2, corners_2 = cv2.findChessboardCorners(gray_1, chessboard_dimensions,None)\n",
    "            if ret_1 and ret_2:\n",
    "                save_as_png(img_1, base_dir, current_id, 'left')\n",
    "                save_as_png(img_2, base_dir, current_id, 'right')\n",
    "                current_id+=1\n",
    "            else:\n",
    "                print \"Chessboard not found in attempt %d\" % attempt\n",
    "    finally:\n",
    "        cam_1.StopCam()\n",
    "        cam_2.StopCam()\n"
   ]
  },
  {
   "cell_type": "code",
   "execution_count": 4,
   "metadata": {
    "collapsed": false
   },
   "outputs": [
    {
     "name": "stdout",
     "output_type": "stream",
     "text": [
      "Chessboard not found in attempt 1\n",
      "Chessboard not found in attempt 2\n",
      "Saved image to /tmp/images/left_00.jpg\n",
      "Saved image to /tmp/images/right_00.jpg\n",
      "Saved image to /tmp/images/left_01.jpg\n",
      "Saved image to /tmp/images/right_01.jpg\n",
      "Saved image to /tmp/images/left_02.jpg\n",
      "Saved image to /tmp/images/right_02.jpg\n",
      "Saved image to /tmp/images/left_03.jpg\n",
      "Saved image to /tmp/images/right_03.jpg\n",
      "Saved image to /tmp/images/left_04.jpg\n",
      "Saved image to /tmp/images/right_04.jpg\n",
      "Saved image to /tmp/images/left_05.jpg\n",
      "Saved image to /tmp/images/right_05.jpg\n",
      "Saved image to /tmp/images/left_06.jpg\n",
      "Saved image to /tmp/images/right_06.jpg\n",
      "Saved image to /tmp/images/left_07.jpg\n",
      "Saved image to /tmp/images/right_07.jpg\n",
      "Chessboard not found in attempt 11\n",
      "Saved image to /tmp/images/left_08.jpg\n",
      "Saved image to /tmp/images/right_08.jpg\n",
      "Saved image to /tmp/images/left_09.jpg\n",
      "Saved image to /tmp/images/right_09.jpg\n",
      "Saved image to /tmp/images/left_10.jpg\n",
      "Saved image to /tmp/images/right_10.jpg\n",
      "Saved image to /tmp/images/left_11.jpg\n",
      "Saved image to /tmp/images/right_11.jpg\n",
      "Saved image to /tmp/images/left_12.jpg\n",
      "Saved image to /tmp/images/right_12.jpg\n",
      "Saved image to /tmp/images/left_13.jpg\n",
      "Saved image to /tmp/images/right_13.jpg\n",
      "Saved image to /tmp/images/left_14.jpg\n",
      "Saved image to /tmp/images/right_14.jpg\n",
      "Saved image to /tmp/images/left_15.jpg\n",
      "Saved image to /tmp/images/right_15.jpg\n",
      "Saved image to /tmp/images/left_16.jpg\n",
      "Saved image to /tmp/images/right_16.jpg\n",
      "Saved image to /tmp/images/left_17.jpg\n",
      "Saved image to /tmp/images/right_17.jpg\n",
      "Saved image to /tmp/images/left_18.jpg\n",
      "Saved image to /tmp/images/right_18.jpg\n",
      "Saved image to /tmp/images/left_19.jpg\n",
      "Saved image to /tmp/images/right_19.jpg\n"
     ]
    }
   ],
   "source": [
    "grab_images((7,4))"
   ]
  },
  {
   "cell_type": "code",
   "execution_count": null,
   "metadata": {
    "collapsed": true
   },
   "outputs": [],
   "source": []
  }
 ],
 "metadata": {
  "kernelspec": {
   "display_name": "Python 2",
   "language": "python",
   "name": "python2"
  },
  "language_info": {
   "codemirror_mode": {
    "name": "ipython",
    "version": 2
   },
   "file_extension": ".py",
   "mimetype": "text/x-python",
   "name": "python",
   "nbconvert_exporter": "python",
   "pygments_lexer": "ipython2",
   "version": "2.7.6"
  }
 },
 "nbformat": 4,
 "nbformat_minor": 0
}
