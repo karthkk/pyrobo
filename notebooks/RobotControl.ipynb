{
 "cells": [
  {
   "cell_type": "code",
   "execution_count": 1,
   "metadata": {
    "collapsed": false
   },
   "outputs": [],
   "source": [
    "import sys\n",
    "sys.path.append('/home/karthik/code/pyrobo/src/')"
   ]
  },
  {
   "cell_type": "code",
   "execution_count": 2,
   "metadata": {
    "collapsed": false
   },
   "outputs": [],
   "source": [
    "import eLabPeersRobo\n",
    "import numpy as np\n",
    "import trajectory_computation\n",
    "from numpy import pi"
   ]
  },
  {
   "cell_type": "code",
   "execution_count": 3,
   "metadata": {
    "collapsed": false
   },
   "outputs": [
    {
     "name": "stdout",
     "output_type": "stream",
     "text": [
      "#3P1500T1000\n",
      "\n",
      "#3P1500#4P1500T1000\n",
      "\n",
      "#3P1500#4P1500#5P1500T1000\n",
      "\n",
      "#3P1500#4P1500#5P1500#6P1500T1000\n",
      "\n",
      "#3P1500#4P1500#5P1500#6P1500#7P1500T1000\n",
      "\n"
     ]
    }
   ],
   "source": [
    "robot = eLabPeersRobo.init_robo(False, \"/dev/ttyACM0\")\n",
    "#ser = serial.Serial(\"/dev/ttyACM0\")"
   ]
  },
  {
   "cell_type": "code",
   "execution_count": 15,
   "metadata": {
    "collapsed": false
   },
   "outputs": [
    {
     "name": "stdout",
     "output_type": "stream",
     "text": [
      "[ -5.02105725e-09  -2.99385908e-01   6.75994702e-02  -3.83193664e-01\n",
      "   0.00000000e+00]\n",
      "[  1.02715470e-10  -2.84789993e-01   1.53137217e-01  -1.42579803e-02\n",
      "   0.00000000e+00]\n",
      "[ -5.32920366e-09   5.54984071e-01  -3.91812180e-01  -3.40419723e-01\n",
      "   0.00000000e+00] Before\n",
      "[ -5.22648819e-09   2.70194078e-01  -2.38674963e-01  -3.54677704e-01\n",
      "   0.00000000e+00] After\n",
      "#3P1499T1000\n",
      "\n",
      "#4P1672T1000\n",
      "\n",
      "#5P1348T1000\n",
      "\n",
      "#6P1274T1000\n",
      "\n",
      "#7P1500T1000\n",
      "\n",
      "[ -5.22648819e-09   2.70194078e-01  -2.38674963e-01  -3.54677704e-01\n",
      "   0.00000000e+00] Before\n",
      "[ -5.12377272e-09  -1.45959149e-02  -8.55377465e-02  -3.68935684e-01\n",
      "   0.00000000e+00] After\n",
      "#3P1499T1000\n",
      "\n",
      "#4P1490T1000\n",
      "\n",
      "#5P1445T1000\n",
      "\n",
      "#6P1265T1000\n",
      "\n",
      "#7P1500T1000\n",
      "\n",
      "[ -5.12377272e-09  -1.45959149e-02  -8.55377465e-02  -3.68935684e-01\n",
      "   0.00000000e+00] Before\n",
      "[ -5.02105725e-09  -2.99385908e-01   6.75994702e-02  -3.83193664e-01\n",
      "   0.00000000e+00] After\n",
      "#3P1499T1000\n",
      "\n",
      "#4P1309T1000\n",
      "\n",
      "#5P1543T1000\n",
      "\n",
      "#6P1256T1000\n",
      "\n",
      "#7P1500T1000\n",
      "\n"
     ]
    }
   ],
   "source": [
    "robot.move_to((200,0,320), speed=1000, steps=3)"
   ]
  },
  {
   "cell_type": "code",
   "execution_count": 22,
   "metadata": {
    "collapsed": false
   },
   "outputs": [
    {
     "name": "stdout",
     "output_type": "stream",
     "text": [
      "[-0.2730087   0.9218092  -0.40837966 -0.10239908  0.        ]\n",
      "[-0.1820058   0.00023409  0.00044902 -0.00025352  0.        ]\n",
      "[ 0.2730087   0.92110694 -0.40972673 -0.10163853  0.        ] Before\n",
      "[ 0.0910029   0.92134102 -0.4092777  -0.10189205  0.        ] After\n",
      "#3P1557T1000\n",
      "\n",
      "#4P2086T1000\n",
      "\n",
      "#5P1239T1000\n",
      "\n",
      "#6P1435T1000\n",
      "\n",
      "#7P1500T1000\n",
      "\n",
      "[ 0.0910029   0.92134102 -0.4092777  -0.10189205  0.        ] Before\n",
      "[-0.0910029   0.92157511 -0.40882868 -0.10214556  0.        ] After\n",
      "#3P1442T1000\n",
      "\n",
      "#4P2086T1000\n",
      "\n",
      "#5P1239T1000\n",
      "\n",
      "#6P1434T1000\n",
      "\n",
      "#7P1500T1000\n",
      "\n",
      "[-0.0910029   0.92157511 -0.40882868 -0.10214556  0.        ] Before\n",
      "[-0.2730087   0.9218092  -0.40837966 -0.10239908  0.        ] After\n",
      "#3P1326T1000\n",
      "\n",
      "#4P2086T1000\n",
      "\n",
      "#5P1240T1000\n",
      "\n",
      "#6P1434T1000\n",
      "\n",
      "#7P1500T1000\n",
      "\n"
     ]
    }
   ],
   "source": [
    "robot.move_to((250,-70,-40), speed=1000, steps=3)\n",
    "\n"
   ]
  },
  {
   "cell_type": "code",
   "execution_count": null,
   "metadata": {
    "collapsed": true
   },
   "outputs": [],
   "source": []
  }
 ],
 "metadata": {
  "kernelspec": {
   "display_name": "Python 2",
   "language": "python",
   "name": "python2"
  },
  "language_info": {
   "codemirror_mode": {
    "name": "ipython",
    "version": 2
   },
   "file_extension": ".py",
   "mimetype": "text/x-python",
   "name": "python",
   "nbconvert_exporter": "python",
   "pygments_lexer": "ipython2",
   "version": "2.7.11+"
  }
 },
 "nbformat": 4,
 "nbformat_minor": 0
}
