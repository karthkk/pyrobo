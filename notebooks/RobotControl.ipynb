{
 "cells": [
  {
   "cell_type": "code",
   "execution_count": 1,
   "metadata": {
    "collapsed": false
   },
   "outputs": [],
   "source": [
    "import sys\n",
    "sys.path.append('/Users/kk/code/pyrobo/src//')"
   ]
  },
  {
   "cell_type": "code",
   "execution_count": 2,
   "metadata": {
    "collapsed": false
   },
   "outputs": [],
   "source": [
    "import eLabPeersRobo\n"
   ]
  },
  {
   "cell_type": "code",
   "execution_count": 9,
   "metadata": {
    "collapsed": false
   },
   "outputs": [
    {
     "name": "stdout",
     "output_type": "stream",
     "text": [
      "http://robot.local:8888/robot/1350/1460/1390/1450/1500/1800/\n",
      "1350/1460/1390/1450/1500\n"
     ]
    }
   ],
   "source": [
    "robot = eLabPeersRobo.init_robo()"
   ]
  },
  {
   "cell_type": "code",
   "execution_count": null,
   "metadata": {
    "collapsed": false
   },
   "outputs": [],
   "source": [
    "robot.open_claw()"
   ]
  },
  {
   "cell_type": "code",
   "execution_count": null,
   "metadata": {
    "collapsed": false
   },
   "outputs": [],
   "source": [
    "robot.fkine([0,0,0,0,0])[:,3]"
   ]
  },
  {
   "cell_type": "markdown",
   "metadata": {},
   "source": [
    "### Robot pickup marker and drop in box demo"
   ]
  },
  {
   "cell_type": "code",
   "execution_count": 10,
   "metadata": {
    "collapsed": true
   },
   "outputs": [
    {
     "name": "stdout",
     "output_type": "stream",
     "text": [
      "http://robot.local:8888/robot/1350/1460/1390/1450/1500/1300/\n",
      "1350/1460/1390/1450/1500\n",
      "[-0.08314124 -0.99630098 -0.5341103  -0.05657542  0.        ]\n",
      "[-0.00415706 -0.04981505 -0.02670552 -0.00282877  0.        ]\n",
      "[0 0 0 0 0] Before\n",
      "[-0.00415706 -0.04981505 -0.02670552 -0.00282877  0.        ] After\n",
      "http://robot.local:8888/robot/1347/1428/1372/1448/1500/1300/\n",
      "1347/1428/1372/1448/1500\n",
      "[-0.00415706 -0.04981505 -0.02670552 -0.00282877  0.        ] Before\n",
      "[-0.00831412 -0.0996301  -0.05341103 -0.00565754  0.        ] After\n",
      "http://robot.local:8888/robot/1344/1396/1355/1446/1500/1300/\n",
      "1344/1396/1355/1446/1500\n",
      "[-0.00831412 -0.0996301  -0.05341103 -0.00565754  0.        ] Before\n",
      "[-0.01247119 -0.14944515 -0.08011655 -0.00848631  0.        ] After\n",
      "http://robot.local:8888/robot/1342/1364/1338/1444/1500/1300/\n",
      "1342/1364/1338/1444/1500\n",
      "[-0.01247119 -0.14944515 -0.08011655 -0.00848631  0.        ] Before\n",
      "[-0.01662825 -0.1992602  -0.10682206 -0.01131508  0.        ] After\n",
      "http://robot.local:8888/robot/1339/1333/1321/1442/1500/1300/\n",
      "1339/1333/1321/1442/1500\n",
      "[-0.01662825 -0.1992602  -0.10682206 -0.01131508  0.        ] Before\n",
      "[-0.02078531 -0.24907525 -0.13352758 -0.01414385  0.        ] After\n",
      "http://robot.local:8888/robot/1336/1301/1304/1440/1500/1300/\n",
      "1336/1301/1304/1440/1500\n",
      "[-0.02078531 -0.24907525 -0.13352758 -0.01414385  0.        ] Before\n",
      "[-0.02494237 -0.29889029 -0.16023309 -0.01697263  0.        ] After\n",
      "http://robot.local:8888/robot/1334/1269/1287/1439/1500/1300/\n",
      "1334/1269/1287/1439/1500\n",
      "[-0.02494237 -0.29889029 -0.16023309 -0.01697263  0.        ] Before\n",
      "[-0.02909943 -0.34870534 -0.18693861 -0.0198014   0.        ] After\n",
      "http://robot.local:8888/robot/1331/1238/1270/1437/1500/1300/\n",
      "1331/1238/1270/1437/1500\n",
      "[-0.02909943 -0.34870534 -0.18693861 -0.0198014   0.        ] Before\n",
      "[-0.03325649 -0.39852039 -0.21364412 -0.02263017  0.        ] After\n",
      "http://robot.local:8888/robot/1328/1206/1253/1435/1500/1300/\n",
      "1328/1206/1253/1435/1500\n",
      "[-0.03325649 -0.39852039 -0.21364412 -0.02263017  0.        ] Before\n",
      "[-0.03741356 -0.44833544 -0.24034964 -0.02545894  0.        ] After\n",
      "http://robot.local:8888/robot/1326/1174/1236/1433/1500/1300/\n",
      "1326/1174/1236/1433/1500\n",
      "[-0.03741356 -0.44833544 -0.24034964 -0.02545894  0.        ] Before\n",
      "[-0.04157062 -0.49815049 -0.26705515 -0.02828771  0.        ] After\n",
      "http://robot.local:8888/robot/1323/1142/1219/1431/1500/1300/\n",
      "1323/1142/1219/1431/1500\n",
      "[-0.04157062 -0.49815049 -0.26705515 -0.02828771  0.        ] Before\n",
      "[-0.04572768 -0.54796554 -0.29376067 -0.03111648  0.        ] After\n",
      "http://robot.local:8888/robot/1320/1111/1202/1430/1500/1300/\n",
      "1320/1111/1202/1430/1500\n",
      "[-0.04572768 -0.54796554 -0.29376067 -0.03111648  0.        ] Before\n",
      "[-0.04988474 -0.59778059 -0.32046618 -0.03394525  0.        ] After\n",
      "http://robot.local:8888/robot/1318/1079/1185/1428/1500/1300/\n",
      "1318/1079/1185/1428/1500\n",
      "[-0.04988474 -0.59778059 -0.32046618 -0.03394525  0.        ] Before\n",
      "[-0.0540418  -0.64759564 -0.3471717  -0.03677402  0.        ] After\n",
      "http://robot.local:8888/robot/1315/1047/1168/1426/1500/1300/\n",
      "1315/1047/1168/1426/1500\n",
      "[-0.0540418  -0.64759564 -0.3471717  -0.03677402  0.        ] Before\n",
      "[-0.05819887 -0.69741069 -0.37387721 -0.03960279  0.        ] After\n",
      "http://robot.local:8888/robot/1312/1016/1151/1424/1500/1300/\n",
      "1312/1016/1151/1424/1500\n",
      "[-0.05819887 -0.69741069 -0.37387721 -0.03960279  0.        ] Before\n",
      "[-0.06235593 -0.74722574 -0.40058273 -0.04243156  0.        ] After\n",
      "http://robot.local:8888/robot/1310/984/1134/1422/1500/1300/\n",
      "1310/984/1134/1422/1500\n",
      "[-0.06235593 -0.74722574 -0.40058273 -0.04243156  0.        ] Before\n",
      "[-0.06651299 -0.79704078 -0.42728824 -0.04526033  0.        ] After\n",
      "http://robot.local:8888/robot/1307/952/1117/1421/1500/1300/\n",
      "1307/952/1117/1421/1500\n",
      "[-0.06651299 -0.79704078 -0.42728824 -0.04526033  0.        ] Before\n",
      "[-0.07067005 -0.84685583 -0.45399376 -0.04808911  0.        ] After\n",
      "http://robot.local:8888/robot/1305/920/1100/1419/1500/1300/\n",
      "1305/920/1100/1419/1500\n",
      "[-0.07067005 -0.84685583 -0.45399376 -0.04808911  0.        ] Before\n",
      "[-0.07482711 -0.89667088 -0.48069927 -0.05091788  0.        ] After\n",
      "http://robot.local:8888/robot/1302/889/1083/1417/1500/1300/\n",
      "1302/889/1083/1417/1500\n",
      "[-0.07482711 -0.89667088 -0.48069927 -0.05091788  0.        ] Before\n",
      "[-0.07898418 -0.94648593 -0.50740479 -0.05374665  0.        ] After\n",
      "http://robot.local:8888/robot/1299/857/1066/1415/1500/1300/\n",
      "1299/857/1066/1415/1500\n",
      "[-0.07898418 -0.94648593 -0.50740479 -0.05374665  0.        ] Before\n",
      "[-0.08314124 -0.99630098 -0.5341103  -0.05657542  0.        ] After\n",
      "http://robot.local:8888/robot/1297/825/1049/1413/1500/1300/\n",
      "1297/825/1049/1413/1500\n",
      "http://robot.local:8888/robot/1297/825/1049/1413/1500/2100/\n",
      "1297/825/1049/1413/1500\n",
      "[ -1.89729190e-08   2.94660857e-02  -4.69048430e-02  -1.66196818e-01\n",
      "   0.00000000e+00]\n",
      "[ 0.00415706  0.05128835  0.02436027 -0.00548107  0.        ]\n",
      "[-0.08314124 -0.99630098 -0.5341103  -0.05657542  0.        ] Before\n",
      "[-0.07898418 -0.94501263 -0.50975003 -0.06205649  0.        ] After\n",
      "http://robot.local:8888/robot/1299/858/1065/1410/1500/2100/\n",
      "1299/858/1065/1410/1500\n",
      "[-0.07898418 -0.94501263 -0.50975003 -0.06205649  0.        ] Before\n",
      "[-0.07482712 -0.89372427 -0.48538976 -0.06753756  0.        ] After\n",
      "http://robot.local:8888/robot/1302/891/1080/1407/1500/2100/\n",
      "1302/891/1080/1407/1500\n",
      "[-0.07482712 -0.89372427 -0.48538976 -0.06753756  0.        ] Before\n",
      "[-0.07067005 -0.84243592 -0.46102948 -0.07301863  0.        ] After\n",
      "http://robot.local:8888/robot/1305/923/1096/1403/1500/2100/\n",
      "1305/923/1096/1403/1500\n",
      "[-0.07067005 -0.84243592 -0.46102948 -0.07301863  0.        ] Before\n",
      "[-0.06651299 -0.79114757 -0.43666921 -0.0784997   0.        ] After\n",
      "http://robot.local:8888/robot/1307/956/1112/1400/1500/2100/\n",
      "1307/956/1112/1400/1500\n",
      "[-0.06651299 -0.79114757 -0.43666921 -0.0784997   0.        ] Before\n",
      "[-0.06235593 -0.73985921 -0.41230894 -0.08398077  0.        ] After\n",
      "http://robot.local:8888/robot/1310/988/1127/1396/1500/2100/\n",
      "1310/988/1127/1396/1500\n",
      "[-0.06235593 -0.73985921 -0.41230894 -0.08398077  0.        ] Before\n",
      "[-0.05819887 -0.68857086 -0.38794866 -0.08946184  0.        ] After\n",
      "http://robot.local:8888/robot/1312/1021/1143/1393/1500/2100/\n",
      "1312/1021/1143/1393/1500\n",
      "[-0.05819887 -0.68857086 -0.38794866 -0.08946184  0.        ] Before\n",
      "[-0.05404181 -0.63728251 -0.36358839 -0.09494291  0.        ] After\n",
      "http://robot.local:8888/robot/1315/1054/1158/1389/1500/2100/\n",
      "1315/1054/1158/1389/1500\n",
      "[-0.05404181 -0.63728251 -0.36358839 -0.09494291  0.        ] Before\n",
      "[-0.04988475 -0.58599415 -0.33922812 -0.10042398  0.        ] After\n",
      "http://robot.local:8888/robot/1318/1086/1174/1386/1500/2100/\n",
      "1318/1086/1174/1386/1500\n",
      "[-0.04988475 -0.58599415 -0.33922812 -0.10042398  0.        ] Before\n",
      "[-0.04572769 -0.5347058  -0.31486785 -0.10590505  0.        ] After\n",
      "http://robot.local:8888/robot/1320/1119/1189/1382/1500/2100/\n",
      "1320/1119/1189/1382/1500\n",
      "[-0.04572769 -0.5347058  -0.31486785 -0.10590505  0.        ] Before\n",
      "[-0.04157063 -0.48341745 -0.29050757 -0.11138612  0.        ] After\n",
      "http://robot.local:8888/robot/1323/1152/1205/1379/1500/2100/\n",
      "1323/1152/1205/1379/1500\n",
      "[-0.04157063 -0.48341745 -0.29050757 -0.11138612  0.        ] Before\n",
      "[-0.03741357 -0.43212909 -0.2661473  -0.11686719  0.        ] After\n",
      "http://robot.local:8888/robot/1326/1184/1220/1375/1500/2100/\n",
      "1326/1184/1220/1375/1500\n",
      "[-0.03741357 -0.43212909 -0.2661473  -0.11686719  0.        ] Before\n",
      "[-0.03325651 -0.38084074 -0.24178703 -0.12234826  0.        ] After\n",
      "http://robot.local:8888/robot/1328/1217/1236/1372/1500/2100/\n",
      "1328/1217/1236/1372/1500\n",
      "[-0.03325651 -0.38084074 -0.24178703 -0.12234826  0.        ] Before\n",
      "[-0.02909945 -0.32955239 -0.21742675 -0.12782933  0.        ] After\n",
      "http://robot.local:8888/robot/1331/1250/1251/1368/1500/2100/\n",
      "1331/1250/1251/1368/1500\n",
      "[-0.02909945 -0.32955239 -0.21742675 -0.12782933  0.        ] Before\n",
      "[-0.02494238 -0.27826403 -0.19306648 -0.1333104   0.        ] After\n",
      "http://robot.local:8888/robot/1334/1282/1267/1365/1500/2100/\n",
      "1334/1282/1267/1365/1500\n",
      "[-0.02494238 -0.27826403 -0.19306648 -0.1333104   0.        ] Before\n",
      "[-0.02078532 -0.22697568 -0.16870621 -0.13879147  0.        ] After\n",
      "http://robot.local:8888/robot/1336/1315/1282/1361/1500/2100/\n",
      "1336/1315/1282/1361/1500\n",
      "[-0.02078532 -0.22697568 -0.16870621 -0.13879147  0.        ] Before\n",
      "[-0.01662826 -0.17568733 -0.14434593 -0.14427254  0.        ] After\n",
      "http://robot.local:8888/robot/1339/1348/1298/1358/1500/2100/\n",
      "1339/1348/1298/1358/1500\n",
      "[-0.01662826 -0.17568733 -0.14434593 -0.14427254  0.        ] Before\n",
      "[-0.0124712  -0.12439897 -0.11998566 -0.14975361  0.        ] After\n",
      "http://robot.local:8888/robot/1342/1380/1313/1354/1500/2100/\n",
      "1342/1380/1313/1354/1500\n",
      "[-0.0124712  -0.12439897 -0.11998566 -0.14975361  0.        ] Before\n",
      "[-0.00831414 -0.07311062 -0.09562539 -0.15523468  0.        ] After\n",
      "http://robot.local:8888/robot/1344/1413/1329/1351/1500/2100/\n",
      "1344/1413/1329/1351/1500\n",
      "[-0.00831414 -0.07311062 -0.09562539 -0.15523468  0.        ] Before\n",
      "[-0.00415708 -0.02182227 -0.07126512 -0.16071575  0.        ] After\n",
      "http://robot.local:8888/robot/1347/1446/1344/1347/1500/2100/\n",
      "1347/1446/1344/1347/1500\n",
      "[-0.00415708 -0.02182227 -0.07126512 -0.16071575  0.        ] Before\n",
      "[ -1.89729189e-08   2.94660857e-02  -4.69048430e-02  -1.66196818e-01\n",
      "   0.00000000e+00] After\n",
      "http://robot.local:8888/robot/1349/1478/1360/1344/1500/2100/\n",
      "1349/1478/1360/1344/1500\n",
      "[ 0.9151007  -0.57896664 -0.25568095 -0.07738721  0.        ]\n",
      "[ 0.04575504 -0.03042164 -0.01043881  0.00444048  0.        ]\n",
      "[ -1.89729189e-08   2.94660857e-02  -4.69048430e-02  -1.66196818e-01\n",
      "   0.00000000e+00] Before\n",
      "[ 0.04575502 -0.00095555 -0.05734365 -0.16175634  0.        ] After\n",
      "http://robot.local:8888/robot/1379/1459/1353/1347/1500/2100/\n",
      "1379/1459/1353/1347/1500\n",
      "[ 0.04575502 -0.00095555 -0.05734365 -0.16175634  0.        ] Before\n",
      "[ 0.09151005 -0.03137719 -0.06778245 -0.15731586  0.        ] After\n",
      "http://robot.local:8888/robot/1408/1440/1346/1349/1500/2100/\n",
      "1408/1440/1346/1349/1500\n",
      "[ 0.09151005 -0.03137719 -0.06778245 -0.15731586  0.        ] Before\n",
      "[ 0.13726509 -0.06179882 -0.07822126 -0.15287538  0.        ] After\n",
      "http://robot.local:8888/robot/1437/1420/1340/1352/1500/2100/\n",
      "1437/1420/1340/1352/1500\n",
      "[ 0.13726509 -0.06179882 -0.07822126 -0.15287538  0.        ] Before\n",
      "[ 0.18302012 -0.09222046 -0.08866006 -0.1484349   0.        ] After\n",
      "http://robot.local:8888/robot/1466/1401/1333/1355/1500/2100/\n",
      "1466/1401/1333/1355/1500\n",
      "[ 0.18302012 -0.09222046 -0.08866006 -0.1484349   0.        ] Before\n",
      "[ 0.22877516 -0.1226421  -0.09909887 -0.14399442  0.        ] After\n",
      "http://robot.local:8888/robot/1495/1381/1326/1358/1500/2100/\n",
      "1495/1381/1326/1358/1500\n",
      "[ 0.22877516 -0.1226421  -0.09909887 -0.14399442  0.        ] Before\n",
      "[ 0.2745302  -0.15306373 -0.10953768 -0.13955394  0.        ] After\n",
      "http://robot.local:8888/robot/1524/1362/1320/1361/1500/2100/\n",
      "1524/1362/1320/1361/1500\n",
      "[ 0.2745302  -0.15306373 -0.10953768 -0.13955394  0.        ] Before\n",
      "[ 0.32028523 -0.18348537 -0.11997648 -0.13511346  0.        ] After\n",
      "http://robot.local:8888/robot/1553/1343/1313/1363/1500/2100/\n",
      "1553/1343/1313/1363/1500\n",
      "[ 0.32028523 -0.18348537 -0.11997648 -0.13511346  0.        ] Before\n",
      "[ 0.36604027 -0.21390701 -0.13041529 -0.13067298  0.        ] After\n",
      "http://robot.local:8888/robot/1583/1323/1306/1366/1500/2100/\n",
      "1583/1323/1306/1366/1500\n",
      "[ 0.36604027 -0.21390701 -0.13041529 -0.13067298  0.        ] Before\n",
      "[ 0.4117953  -0.24432864 -0.14085409 -0.1262325   0.        ] After\n",
      "http://robot.local:8888/robot/1612/1304/1300/1369/1500/2100/\n",
      "1612/1304/1300/1369/1500\n",
      "[ 0.4117953  -0.24432864 -0.14085409 -0.1262325   0.        ] Before\n",
      "[ 0.45755034 -0.27475028 -0.1512929  -0.12179202  0.        ] After\n",
      "http://robot.local:8888/robot/1641/1285/1293/1372/1500/2100/\n",
      "1641/1285/1293/1372/1500\n",
      "[ 0.45755034 -0.27475028 -0.1512929  -0.12179202  0.        ] Before\n",
      "[ 0.50330538 -0.30517192 -0.1617317  -0.11735154  0.        ] After\n",
      "http://robot.local:8888/robot/1670/1265/1287/1375/1500/2100/\n",
      "1670/1265/1287/1375/1500\n",
      "[ 0.50330538 -0.30517192 -0.1617317  -0.11735154  0.        ] Before\n",
      "[ 0.54906041 -0.33559355 -0.17217051 -0.11291106  0.        ] After\n",
      "http://robot.local:8888/robot/1699/1246/1280/1378/1500/2100/\n",
      "1699/1246/1280/1378/1500\n",
      "[ 0.54906041 -0.33559355 -0.17217051 -0.11291106  0.        ] Before\n",
      "[ 0.59481545 -0.36601519 -0.18260931 -0.10847058  0.        ] After\n",
      "http://robot.local:8888/robot/1728/1226/1273/1380/1500/2100/\n",
      "1728/1226/1273/1380/1500\n",
      "[ 0.59481545 -0.36601519 -0.18260931 -0.10847058  0.        ] Before\n",
      "[ 0.64057048 -0.39643682 -0.19304812 -0.10403009  0.        ] After\n",
      "http://robot.local:8888/robot/1757/1207/1267/1383/1500/2100/\n",
      "1757/1207/1267/1383/1500\n",
      "[ 0.64057048 -0.39643682 -0.19304812 -0.10403009  0.        ] Before\n",
      "[ 0.68632552 -0.42685846 -0.20348692 -0.09958961  0.        ] After\n",
      "http://robot.local:8888/robot/1786/1188/1260/1386/1500/2100/\n",
      "1786/1188/1260/1386/1500\n",
      "[ 0.68632552 -0.42685846 -0.20348692 -0.09958961  0.        ] Before\n",
      "[ 0.73208056 -0.4572801  -0.21392573 -0.09514913  0.        ] After\n",
      "http://robot.local:8888/robot/1816/1168/1253/1389/1500/2100/\n",
      "1816/1168/1253/1389/1500\n",
      "[ 0.73208056 -0.4572801  -0.21392573 -0.09514913  0.        ] Before\n",
      "[ 0.77783559 -0.48770173 -0.22436454 -0.09070865  0.        ] After\n",
      "http://robot.local:8888/robot/1845/1149/1247/1392/1500/2100/\n",
      "1845/1149/1247/1392/1500\n",
      "[ 0.77783559 -0.48770173 -0.22436454 -0.09070865  0.        ] Before\n",
      "[ 0.82359063 -0.51812337 -0.23480334 -0.08626817  0.        ] After\n",
      "http://robot.local:8888/robot/1874/1130/1240/1395/1500/2100/\n",
      "1874/1130/1240/1395/1500\n",
      "[ 0.82359063 -0.51812337 -0.23480334 -0.08626817  0.        ] Before\n",
      "[ 0.86934566 -0.54854501 -0.24524215 -0.08182769  0.        ] After\n",
      "http://robot.local:8888/robot/1903/1110/1233/1397/1500/2100/\n",
      "1903/1110/1233/1397/1500\n",
      "[ 0.86934566 -0.54854501 -0.24524215 -0.08182769  0.        ] Before\n",
      "[ 0.9151007  -0.57896664 -0.25568095 -0.07738721  0.        ] After\n",
      "http://robot.local:8888/robot/1932/1091/1227/1400/1500/2100/\n",
      "1932/1091/1227/1400/1500\n",
      "http://robot.local:8888/robot/1932/1091/1227/1400/1500/1300/\n",
      "1932/1091/1227/1400/1500\n",
      "[ -5.02887678e-09   5.86595212e-03   2.59368656e-04  -1.90034346e-01\n",
      "   0.00000000e+00]\n",
      "[-0.04575504  0.02924163  0.01279702 -0.00563236  0.        ]\n",
      "[ 0.9151007  -0.57896664 -0.25568095 -0.07738721  0.        ] Before\n",
      "[ 0.86934566 -0.54972501 -0.24288394 -0.08301957  0.        ] After\n",
      "http://robot.local:8888/robot/1903/1110/1235/1397/1500/1300/\n",
      "1903/1110/1235/1397/1500\n",
      "[ 0.86934566 -0.54972501 -0.24288394 -0.08301957  0.        ] Before\n",
      "[ 0.82359063 -0.52048338 -0.23008692 -0.08865193  0.        ] After\n",
      "http://robot.local:8888/robot/1874/1128/1243/1393/1500/1300/\n",
      "1874/1128/1243/1393/1500\n",
      "[ 0.82359063 -0.52048338 -0.23008692 -0.08865193  0.        ] Before\n",
      "[ 0.77783559 -0.49124175 -0.2172899  -0.09428428  0.        ] After\n",
      "http://robot.local:8888/robot/1845/1147/1251/1389/1500/1300/\n",
      "1845/1147/1251/1389/1500\n",
      "[ 0.77783559 -0.49124175 -0.2172899  -0.09428428  0.        ] Before\n",
      "[ 0.73208056 -0.46200012 -0.20449289 -0.09991664  0.        ] After\n",
      "http://robot.local:8888/robot/1816/1165/1259/1386/1500/1300/\n",
      "1816/1165/1259/1386/1500\n",
      "[ 0.73208056 -0.46200012 -0.20449289 -0.09991664  0.        ] Before\n",
      "[ 0.68632552 -0.43275849 -0.19169587 -0.105549    0.        ] After\n",
      "http://robot.local:8888/robot/1786/1184/1267/1382/1500/1300/\n",
      "1786/1184/1267/1382/1500\n",
      "[ 0.68632552 -0.43275849 -0.19169587 -0.105549    0.        ] Before\n",
      "[ 0.64057049 -0.40351686 -0.17889886 -0.11118135  0.        ] After\n",
      "http://robot.local:8888/robot/1757/1203/1276/1379/1500/1300/\n",
      "1757/1203/1276/1379/1500\n",
      "[ 0.64057049 -0.40351686 -0.17889886 -0.11118135  0.        ] Before\n",
      "[ 0.59481545 -0.37427523 -0.16610184 -0.11681371  0.        ] After\n",
      "http://robot.local:8888/robot/1728/1221/1284/1375/1500/1300/\n",
      "1728/1221/1284/1375/1500\n",
      "[ 0.59481545 -0.37427523 -0.16610184 -0.11681371  0.        ] Before\n",
      "[ 0.54906042 -0.34503361 -0.15330482 -0.12244607  0.        ] After\n",
      "http://robot.local:8888/robot/1699/1240/1292/1372/1500/1300/\n",
      "1699/1240/1292/1372/1500\n",
      "[ 0.54906042 -0.34503361 -0.15330482 -0.12244607  0.        ] Before\n",
      "[ 0.50330538 -0.31579198 -0.14050781 -0.12807842  0.        ] After\n",
      "http://robot.local:8888/robot/1670/1258/1300/1368/1500/1300/\n",
      "1670/1258/1300/1368/1500\n",
      "[ 0.50330538 -0.31579198 -0.14050781 -0.12807842  0.        ] Before\n",
      "[ 0.45755035 -0.28655035 -0.12771079 -0.13371078  0.        ] After\n",
      "http://robot.local:8888/robot/1641/1277/1308/1364/1500/1300/\n",
      "1641/1277/1308/1364/1500\n",
      "[ 0.45755035 -0.28655035 -0.12771079 -0.13371078  0.        ] Before\n",
      "[ 0.41179531 -0.25730872 -0.11491378 -0.13934314  0.        ] After\n",
      "http://robot.local:8888/robot/1612/1296/1316/1361/1500/1300/\n",
      "1612/1296/1316/1361/1500\n",
      "[ 0.41179531 -0.25730872 -0.11491378 -0.13934314  0.        ] Before\n",
      "[ 0.36604028 -0.22806709 -0.10211676 -0.14497549  0.        ] After\n",
      "http://robot.local:8888/robot/1583/1314/1324/1357/1500/1300/\n",
      "1583/1314/1324/1357/1500\n",
      "[ 0.36604028 -0.22806709 -0.10211676 -0.14497549  0.        ] Before\n",
      "[ 0.32028524 -0.19882546 -0.08931974 -0.15060785  0.        ] After\n",
      "http://robot.local:8888/robot/1553/1333/1333/1354/1500/1300/\n",
      "1553/1333/1333/1354/1500\n",
      "[ 0.32028524 -0.19882546 -0.08931974 -0.15060785  0.        ] Before\n",
      "[ 0.27453021 -0.16958383 -0.07652273 -0.15624021  0.        ] After\n",
      "http://robot.local:8888/robot/1524/1352/1341/1350/1500/1300/\n",
      "1524/1352/1341/1350/1500\n",
      "[ 0.27453021 -0.16958383 -0.07652273 -0.15624021  0.        ] Before\n",
      "[ 0.22877517 -0.1403422  -0.06372571 -0.16187256  0.        ] After\n",
      "http://robot.local:8888/robot/1495/1370/1349/1346/1500/1300/\n",
      "1495/1370/1349/1346/1500\n",
      "[ 0.22877517 -0.1403422  -0.06372571 -0.16187256  0.        ] Before\n",
      "[ 0.18302014 -0.11110057 -0.0509287  -0.16750492  0.        ] After\n",
      "http://robot.local:8888/robot/1466/1389/1357/1343/1500/1300/\n",
      "1466/1389/1357/1343/1500\n",
      "[ 0.18302014 -0.11110057 -0.0509287  -0.16750492  0.        ] Before\n",
      "[ 0.1372651  -0.08185894 -0.03813168 -0.17313728  0.        ] After\n",
      "http://robot.local:8888/robot/1437/1407/1365/1339/1500/1300/\n",
      "1437/1407/1365/1339/1500\n",
      "[ 0.1372651  -0.08185894 -0.03813168 -0.17313728  0.        ] Before\n",
      "[ 0.09151007 -0.05261731 -0.02533466 -0.17876963  0.        ] After\n",
      "http://robot.local:8888/robot/1408/1426/1373/1336/1500/1300/\n",
      "1408/1426/1373/1336/1500\n",
      "[ 0.09151007 -0.05261731 -0.02533466 -0.17876963  0.        ] Before\n",
      "[ 0.04575503 -0.02337568 -0.01253765 -0.18440199  0.        ] After\n",
      "http://robot.local:8888/robot/1379/1445/1382/1332/1500/1300/\n",
      "1379/1445/1382/1332/1500\n",
      "[ 0.04575503 -0.02337568 -0.01253765 -0.18440199  0.        ] Before\n",
      "[ -5.02887697e-09   5.86595212e-03   2.59368656e-04  -1.90034346e-01\n",
      "   0.00000000e+00] After\n",
      "http://robot.local:8888/robot/1349/1463/1390/1329/1500/1300/\n",
      "1349/1463/1390/1329/1500\n"
     ]
    }
   ],
   "source": [
    "import time\n",
    "robot.open_claw()\n",
    "robot.move_to((180,-15,-30))\n",
    "time.sleep(3)\n",
    "robot.close_claw()\n",
    "robot.move_to((175,0,300))\n",
    "robot.move_to((150,195,120))\n",
    "robot.open_claw()\n",
    "robot.move_to((175,0,300))\n"
   ]
  },
  {
   "cell_type": "markdown",
   "metadata": {
    "collapsed": true
   },
   "source": [
    "### Robot camera"
   ]
  },
  {
   "cell_type": "code",
   "execution_count": 27,
   "metadata": {
    "collapsed": true
   },
   "outputs": [],
   "source": [
    "import urllib2\n",
    "from operator import mul\n",
    "import numpy as np\n",
    "\n",
    "\n",
    "col_sz = (480, 640, 3)\n",
    "dep_sz = (480, 640)\n",
    "cad_sz = (480, 640, 3)\n",
    "\n",
    "\n",
    "def from_buffer(im_str, sz):\n",
    "    f1 = np.fromstring(im_str, dtype=np.uint8)\n",
    "    return f1.reshape(sz)    \n",
    "\n",
    "def get_images():\n",
    "    response=urllib2.urlopen('http://robot.local:8888/camera')\n",
    "    col = from_buffer(response.read(reduce(mul, col_sz)), col_sz)\n",
    "    dep = from_buffer(response.read(reduce(mul, dep_sz)), dep_sz)\n",
    "    cad = from_buffer(response.read(reduce(mul, cad_sz)), cad_sz)\n",
    "    response.close()\n",
    "    return col, dep, cad\n"
   ]
  },
  {
   "cell_type": "code",
   "execution_count": 28,
   "metadata": {
    "collapsed": false
   },
   "outputs": [],
   "source": [
    "(col, dep, cad) = get_images()"
   ]
  },
  {
   "cell_type": "code",
   "execution_count": 23,
   "metadata": {
    "collapsed": false
   },
   "outputs": [
    {
     "name": "stderr",
     "output_type": "stream",
     "text": [
      "/usr/local/lib/python2.7/dist-packages/matplotlib/font_manager.py:273: UserWarning: Matplotlib is building the font cache using fc-list. This may take a moment.\n",
      "  warnings.warn('Matplotlib is building the font cache using fc-list. This may take a moment.')\n"
     ]
    }
   ],
   "source": [
    "%matplotlib inline"
   ]
  },
  {
   "cell_type": "code",
   "execution_count": 24,
   "metadata": {
    "collapsed": true
   },
   "outputs": [],
   "source": [
    "from matplotlib import pyplot as plt"
   ]
  },
  {
   "cell_type": "code",
   "execution_count": 30,
   "metadata": {
    "collapsed": false
   },
   "outputs": [
    {
     "data": {
      "text/plain": [
       "<matplotlib.image.AxesImage at 0x7fdf0b98d0d0>"
      ]
     },
     "execution_count": 30,
     "metadata": {},
     "output_type": "execute_result"
    },
    {
     "data": {
      "image/png": "[encoded data removed]",
      "text/plain": [
       "<matplotlib.figure.Figure at 0x7fdf0b9f59d0>"
      ]
     },
     "metadata": {},
     "output_type": "display_data"
    }
   ],
   "source": [
    "plt.imshow(cad)"
   ]
  }
 ],
 "metadata": {
  "kernelspec": {
   "display_name": "Python 2",
   "language": "python",
   "name": "python2"
  },
  "language_info": {
   "codemirror_mode": {
    "name": "ipython",
    "version": 2
   },
   "file_extension": ".py",
   "mimetype": "text/x-python",
   "name": "python",
   "nbconvert_exporter": "python",
   "pygments_lexer": "ipython2",
   "version": "2.7.12"
  }
 },
 "nbformat": 4,
 "nbformat_minor": 0
}
