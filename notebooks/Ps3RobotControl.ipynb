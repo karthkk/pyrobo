{
 "cells": [
  {
   "cell_type": "code",
   "execution_count": null,
   "metadata": {
    "collapsed": true,
    "deletable": true,
    "editable": true
   },
   "outputs": [],
   "source": [
    "from operator import mul\n",
    "import urllib2\n",
    "import numpy as np\n",
    "import tensorflow as tf\n",
    "import os\n",
    "import cv2"
   ]
  },
  {
   "cell_type": "code",
   "execution_count": null,
   "metadata": {
    "collapsed": true
   },
   "outputs": [],
   "source": [
    "def from_buffer(im_str, sz, dtype_dat):\n",
    "    f1 = np.fromstring(im_str, dtype=dtype_dat)\n",
    "    return f1.reshape(sz)    \n",
    "\n"
   ]
  },
  {
   "cell_type": "code",
   "execution_count": null,
   "metadata": {
    "collapsed": true,
    "editable": true
   },
   "outputs": [],
   "source": [
    "%matplotlib inline\n",
    "from matplotlib import pyplot as plt\n"
   ]
  },
  {
   "cell_type": "markdown",
   "metadata": {
    "deletable": true,
    "editable": true
   },
   "source": [
    "### For home robot"
   ]
  },
  {
   "cell_type": "markdown",
   "metadata": {
    "collapsed": false,
    "deletable": true,
    "editable": true
   },
   "source": [
    "im_shape = (480, 640, 3)\n",
    "im_sz = reduce(mul, im_shape)\n",
    "ROBOT_URL = 'http://localhost:8889/robot/%d/%d/%d/%d/%d/%d/'\n",
    "\n",
    "\n",
    "\n",
    "def get_images():\n",
    "    response=urllib2.urlopen('http://localhost:8889/camera')\n",
    "    left = from_buffer(response.read(im_sz), im_shape, np.uint8)\n",
    "    right = from_buffer(response.read(im_sz), im_shape, np.uint8)\n",
    "    response.close()\n",
    "    return left, right\n",
    "\n",
    "\n",
    "episode_save_location = '/data/robotics/pick_episodes_2/'\n",
    "pyrobo_path = \"/home/karthik/code/pyrobo/\"\n",
    "\n",
    "left_im, right_im = get_images()\n",
    "plt.imshow(left_im)\n"
   ]
  },
  {
   "cell_type": "markdown",
   "metadata": {
    "deletable": true,
    "editable": true
   },
   "source": [
    "### To be run for office robot\n"
   ]
  },
  {
   "cell_type": "code",
   "execution_count": null,
   "metadata": {
    "collapsed": false,
    "deletable": true,
    "editable": true
   },
   "outputs": [],
   "source": [
    "col_sz = (480, 640, 3)\n",
    "dep_sz = (480, 640)\n",
    "pnt_sz = (480, 640, 3)\n",
    "cad_sz = (480, 640, 3)\n",
    "fcam_sz = (288, 352, 3)\n",
    "\n",
    "\n",
    "col_dtype = np.uint8\n",
    "dep_dtype = np.uint16\n",
    "cad_dtype = np.uint8\n",
    "pnt_dtype = np.float32\n",
    "\n",
    "\n",
    "ROBOT_URL = 'http://robot.local:8888/robot/%d/%d/%d/%d/%d/%d/'\n",
    "\n",
    "def get_front_camera():\n",
    "    response=urllib2.urlopen('http://localhost:8891/camera')\n",
    "    fc = from_buffer(response.read(288*352*3), fcam_sz, np.uint8)\n",
    "    response.close()\n",
    "    return fc\n",
    "\n",
    "\n",
    "def get_images():\n",
    "    response=urllib2.urlopen('http://robot.local:8888/camera')\n",
    "    col = from_buffer(response.read(reduce(mul, col_sz)), col_sz, col_dtype)\n",
    "    pnt = from_buffer(response.read(reduce(mul, pnt_sz)*4), pnt_sz, pnt_dtype)\n",
    "    cad = from_buffer(response.read(reduce(mul, cad_sz)), cad_sz, cad_dtype)\n",
    "    dep = from_buffer(response.read(reduce(mul, dep_sz)*2), dep_sz, dep_dtype)\n",
    "    response.close()\n",
    "    return col, pnt, cad, dep, get_front_camera()\n",
    "\n",
    "\n",
    "episode_save_location = '/data/robotics/auto_episodic_data/'\n",
    "pyrobo_path = '/Users/kk/code/pyrobo/'\n",
    "\n",
    "col, pnt, cad, dep, fnt = get_images()\n",
    "plt.imshow(cad)"
   ]
  },
  {
   "cell_type": "code",
   "execution_count": null,
   "metadata": {
    "collapsed": false,
    "deletable": true,
    "editable": true
   },
   "outputs": [],
   "source": [
    "import json\n",
    "def get_ps3_out():\n",
    "    response=urllib2.urlopen('http://localhost:8888/get')\n",
    "    js, buttons = json.loads(''.join(response.readlines()))\n",
    "    pressed_buttons = []\n",
    "    for (button, state) in js.items():\n",
    "        if state > 0.5:\n",
    "            pressed_buttons.append(button)\n",
    "        if state < -0.5 and button == '1':\n",
    "            pressed_buttons.append('0')\n",
    "            \n",
    "    for (button, state) in buttons.items():\n",
    "        if state > 0.5:\n",
    "            pressed_buttons.append(button)\n",
    "    return pressed_buttons\n",
    "\n",
    "motor_state = {0:1500, 1:1500, 2:1500, 3:1500, 4:1500, 5:1500}\n",
    "\n",
    "import time\n",
    "def move_robot():\n",
    "    url = ROBOT_URL\n",
    "    ms = [l[1] for l in sorted(motor_state.items(), key=lambda x: x[0])]\n",
    "    call_url = url%tuple(ms)\n",
    "    print call_url\n",
    "    time.sleep(0.1)\n",
    "    response = urllib2.urlopen(call_url)\n",
    "    return response.readlines()\n",
    "\n",
    "def update_state(motor_id, update_direction):\n",
    "    motor_state[motor_id] = motor_state[motor_id] + 50*update_direction\n",
    "    move_robot()\n",
    "    \n",
    "move_robot()    \n",
    "\n",
    " "
   ]
  },
  {
   "cell_type": "markdown",
   "metadata": {
    "deletable": true,
    "editable": true
   },
   "source": [
    "#### Init model and model prediction"
   ]
  },
  {
   "cell_type": "code",
   "execution_count": null,
   "metadata": {
    "collapsed": false,
    "deletable": true,
    "editable": true
   },
   "outputs": [],
   "source": [
    "\n",
    "\n",
    "def motor_direction_from_model(left_im, right_im, motor_state):\n",
    "    \n",
    "    out_pred = sess.run(tf.nn.softmax(net.layers['out']), { net.left_img:resize_to_model(left_im).reshape((1,224,224,3)),\n",
    "        net.right_img: resize_to_model(right_im).reshape((1,224,224,3)), net.motor_state: motor_state} )\n",
    "    choice = np.argmax(out_pred)\n",
    "    motor = choice/2\n",
    "    direction = choice%2*2-1\n",
    "    print(motor, direction)\n",
    "    return (motor, direction)\n",
    "\n",
    "\n",
    "# def load_models(save_location=None):\n",
    "#     global saver\n",
    "#     net = PurchasePredNet()\n",
    "#     if save_location is None:\n",
    "#         net.load('/data/image/models/VGG_imagenet.npy', sess, True)\n",
    "#     else:\n",
    "#         if saver is None:\n",
    "#             saver = tf.train.Saver()\n",
    "#         saver.restore(sess, save_location)\n",
    "#     return net\n",
    "\n",
    "def motor_2_label(motor, direction):\n",
    "    return 2*motor+(direction+1)/2\n",
    "\n",
    "def motorstate_arr(motor_state):\n",
    "    return np.array([float(motor_state[i]) for i in range(6)], dtype=np.float32)\n",
    "\n",
    "def load_all_training_data():\n",
    "    train_files = [os.path.join(episode_save_location, f)for f in os.listdir(episode_save_location) \n",
    "                   if f.endswith('.tfrecords')]\n",
    "    img_cnt = 0\n",
    "    for train_fl in train_files:\n",
    "        img_cnt+=data.TFDataReader(train_fl).count()\n",
    "    train_inp = np.zeros([2,img_cnt, 224, 224, 3], dtype=np.uint8)\n",
    "    train_labels = np.zeros([img_cnt, ], dtype=np.int32)\n",
    "    train_states = np.zeros([img_cnt, 6], dtype=np.float32)\n",
    "    idx = 0\n",
    "    for train_fl in train_files:\n",
    "        reader = data.TFDataReader(train_fl)\n",
    "        fds = reader.readall(( [\"left_image\", data.IMG_TYP],\n",
    "                            [\"right_image\",  data.IMG_TYP],\n",
    "                            ['motor', data.INT_TYP],\n",
    "                            ['direction', data.INT_TYP],\n",
    "                            ['motor_state',  data.INT_TYP]))\n",
    "        for fd in fds:\n",
    "            train_inp[0, idx, ...] = resize_to_model(fd['left_image'])\n",
    "            train_inp[1, idx, ...] = resize_to_model(fd['right_image'])\n",
    "            motor = int(fd['motor'][0])\n",
    "            direction = int(fd['direction'][0])\n",
    "            train_states[idx,:] = np.array(fd['motor_state'])\n",
    "            label = motor_2_label(motor, direction)\n",
    "            train_labels[idx] = label\n",
    "            idx+=1\n",
    "    \n",
    "    return (train_inp, train_labels, train_states, img_cnt)\n",
    "\n",
    "def retrain_models():\n",
    "    global saver\n",
    "    train_inp, train_labels, train_states, total_samples = load_all_training_data()\n",
    "    for step in range(1000):\n",
    "        idxes = np.random.randint(0, total_samples-1, size=BATCH_SIZE)\n",
    "        left_im = train_inp[0, idxes, ...]\n",
    "        right_im = train_inp[1, idxes, ...]\n",
    "        labels_x = train_labels[idxes]\n",
    "        states = train_states[idxes, ...]\n",
    "        [_, lv] = sess.run([train, loss], {labels_pl: labels_x, \n",
    "                                                    net.left_img:left_im,\n",
    "                                                    net.right_img: right_im,\n",
    "                                                  net.motor_state : states})\n",
    "        if step%100 == 0:\n",
    "            print(\"step: %d, loss: %f\"%(step,lv))\n",
    "    if saver is None:\n",
    "        saver = tf.train.Saver()\n",
    "        saver.save(sess, episode_model_save_location + '/episode_model_%d'%current_episode)\n",
    "    return sess.run( loss, {labels_pl: train_labels[:100], \n",
    "                                                    net.left_img:train_inp[0,  :100,...],\n",
    "                                                    net.right_img: train_inp[1,  :100, ...],\n",
    "                                                   net.motor_state: train_states[:100,:]})\n"
   ]
  },
  {
   "cell_type": "markdown",
   "metadata": {
    "deletable": true,
    "editable": true
   },
   "source": [
    "## Run script"
   ]
  },
  {
   "cell_type": "code",
   "execution_count": null,
   "metadata": {
    "collapsed": true
   },
   "outputs": [],
   "source": [
    "from tftools import data\n",
    "import sys\n",
    "saver = None\n",
    "episode_model_save_location = '/data/robotics/models/auto_episodic'\n",
    "\n",
    "sys.path.append(pyrobo_path + '/network_models/')\n",
    "sys.path.append(pyrobo_path + '../pytools/src/')\n"
   ]
  },
  {
   "cell_type": "code",
   "execution_count": null,
   "metadata": {
    "collapsed": false
   },
   "outputs": [],
   "source": [
    "import trainer\n",
    "sess = tf.Session()\n",
    "\n",
    "with open(episode_save_location + '/episode', 'r') as f:\n",
    "    current_episode = int(f.readline().strip())\n",
    "\n",
    "\n",
    "# reload(trainer)\n",
    "tr = trainer.OfficeTrainer(sess, episode_model_save_location,\n",
    "                          episode_save_location, current_episode)"
   ]
  },
  {
   "cell_type": "code",
   "execution_count": null,
   "metadata": {
    "collapsed": false
   },
   "outputs": [],
   "source": [
    "dat = tr.get_data_to_save()"
   ]
  },
  {
   "cell_type": "code",
   "execution_count": null,
   "metadata": {
    "collapsed": false
   },
   "outputs": [],
   "source": [
    "len(dat)"
   ]
  },
  {
   "cell_type": "code",
   "execution_count": null,
   "metadata": {
    "collapsed": false
   },
   "outputs": [],
   "source": [
    "plt.imshow(dat[0][1])"
   ]
  },
  {
   "cell_type": "code",
   "execution_count": null,
   "metadata": {
    "collapsed": false
   },
   "outputs": [],
   "source": [
    "tr.retrain_model(4, steps=100, print_every=10)"
   ]
  },
  {
   "cell_type": "code",
   "execution_count": null,
   "metadata": {
    "collapsed": false,
    "editable": true
   },
   "outputs": [],
   "source": [
    "from tftools import data\n",
    "import sys\n",
    "saver = None\n",
    "episode_model_save_location = '/data/robotics/models/auto_episodic'\n",
    "\n",
    "sys.path.append(pyrobo_path + '/network_models/')\n",
    "sys.path.append(pyrobo_path + '../pytools/src/')\n",
    "from multicam_net import PurchasePredNetOffice\n",
    "\n",
    "sess = tf.Session()\n",
    "with open(episode_save_location + '/episode', 'r') as f:\n",
    "    current_episode = int(f.readline().strip())\n",
    "\n",
    "\n"
   ]
  },
  {
   "cell_type": "code",
   "execution_count": null,
   "metadata": {
    "collapsed": false
   },
   "outputs": [],
   "source": [
    "saver = tf.train.Saver()"
   ]
  },
  {
   "cell_type": "code",
   "execution_count": null,
   "metadata": {
    "collapsed": true
   },
   "outputs": [],
   "source": [
    "?saver.restore"
   ]
  },
  {
   "cell_type": "code",
   "execution_count": null,
   "metadata": {
    "collapsed": false
   },
   "outputs": [],
   "source": [
    "motorstate_arr(motor_state)"
   ]
  },
  {
   "cell_type": "code",
   "execution_count": null,
   "metadata": {
    "collapsed": false,
    "deletable": true,
    "editable": true
   },
   "outputs": [],
   "source": [
    "with open(episode_save_location + '/episode', 'r') as f:\n",
    "    current_episode = int(f.readline().strip())\n",
    "\n",
    "writer = data.TFDataWriter(episode_save_location + \"/episode_%d.tfrecords\"%current_episode)\n",
    "\n",
    "try:\n",
    "    while True:\n",
    "        time.sleep(0.3)\n",
    "        pressed = get_ps3_out()        \n",
    "        for press in pressed:\n",
    "            if press in button_motor_map or press == USE_MODEL_BUTTON:\n",
    "#                 left_im, right_im = get_images()\n",
    "                col, pnt, cad, dep, fnt = get_images()\n",
    "                if press == USE_MODEL_BUTTON:\n",
    "                    pass\n",
    "#                   motor, direction = net.predict(left_im, right_im,  np.array([[float(motor_state[i]) for i in range(6)]], dtype=np.float32))\n",
    "#                     motor, direction = net.predict(sess, cad, fnt, dep, motorstate_arr(motor_state))\n",
    "                else:\n",
    "                    motor, direction = button_motor_map.get(press,[None, None])\n",
    "                    writer.add( \n",
    "                                [['motor', [motor], data.INT_TYP],\n",
    "                                ['direction', [direction], data.INT_TYP],\n",
    "                                ['motor_state', motorstate_arr(motor_state) , data.FLT_TYP]])\n",
    "\n",
    "\n",
    "                if motor is None:\n",
    "                    continue\n",
    "                update_state(motor, direction)\n",
    "finally:\n",
    "    writer.close()\n",
    "    motor_state = {0:1500, 1:1500, 2:1500, 3:1500, 4:1500, 5:1500}\n",
    "    move_robot()\n",
    "    with open(episode_save_location + '/episode', 'w') as f:\n",
    "        f.write(\"%d\"% (int(current_episode)+1))\n",
    "    print current_episode\n",
    "#     retrain_models()\n",
    "    "
   ]
  },
  {
   "cell_type": "code",
   "execution_count": null,
   "metadata": {
    "collapsed": false,
    "deletable": true,
    "editable": true,
    "scrolled": true
   },
   "outputs": [],
   "source": [
    "retrain_models()"
   ]
  },
  {
   "cell_type": "markdown",
   "metadata": {
    "deletable": true,
    "editable": true
   },
   "source": [
    "### Retraining of models after every episode"
   ]
  },
  {
   "cell_type": "code",
   "execution_count": null,
   "metadata": {
    "collapsed": false
   },
   "outputs": [],
   "source": [
    "from multicam_net import PurchasePredNetOffice\n",
    "net = PurchasePredNetOffice()"
   ]
  },
  {
   "cell_type": "code",
   "execution_count": null,
   "metadata": {
    "collapsed": true
   },
   "outputs": [],
   "source": [
    "sess = tf.Session()"
   ]
  },
  {
   "cell_type": "code",
   "execution_count": null,
   "metadata": {
    "collapsed": false,
    "deletable": true,
    "editable": true
   },
   "outputs": [],
   "source": [
    "BATCH_SIZE=8\n",
    "labels_pl = tf.placeholder(shape=(None,), dtype=tf.int32)\n",
    "loss = tf.reduce_mean(tf.nn.sparse_softmax_cross_entropy_with_logits(logits=net.layers['out'], labels=labels_pl))\n",
    "optimizer = tf.train.AdagradOptimizer(0.001)\n",
    "train = optimizer.minimize(loss)\n",
    "sess.run(tf.global_variables_initializer())"
   ]
  },
  {
   "cell_type": "code",
   "execution_count": null,
   "metadata": {
    "collapsed": false
   },
   "outputs": [],
   "source": [
    "net.load(, sess, True)"
   ]
  },
  {
   "cell_type": "code",
   "execution_count": null,
   "metadata": {
    "collapsed": false
   },
   "outputs": [],
   "source": [
    "for step in range(100):\n",
    "    idxes = np.random.randint(0, img_cnt-1, size=BATCH_SIZE)\n",
    "    main_im = train_inp[0, idxes, ...]\n",
    "    front_im = train_inp[1, idxes, ...]\n",
    "    labels_x = train_labels[idxes]\n",
    "    depth_x = train_depths[idxes, ...]\n",
    "    states = train_states[idxes, ...]\n",
    "    \n",
    "    [_, lv] = sess.run([train, loss], {labels_pl: labels_x, \n",
    "                                        net.main_img:main_im,\n",
    "                                        net.front_img: front_im,\n",
    "                                        net.depth : depth_x,\n",
    "                                        net.motor_state : states})\n",
    "    if step%10 ==0:\n",
    "        print \"Step %s, Loss %f\"%(step, lv)\n"
   ]
  },
  {
   "cell_type": "code",
   "execution_count": null,
   "metadata": {
    "collapsed": true
   },
   "outputs": [],
   "source": [
    "saver = tf.train.Saver()"
   ]
  },
  {
   "cell_type": "code",
   "execution_count": null,
   "metadata": {
    "collapsed": false
   },
   "outputs": [],
   "source": [
    "saver.save(sess, '/data/robotics/models/auto_episodic/episode_model_%d'%4)"
   ]
  },
  {
   "cell_type": "code",
   "execution_count": null,
   "metadata": {
    "collapsed": false,
    "deletable": true,
    "editable": true
   },
   "outputs": [],
   "source": [
    "from tftools import data\n",
    "import sys\n",
    "saver = None\n",
    "episode_model_save_location = '/data/robotics/models/auto_episodic'\n",
    "\n",
    "sys.path.append(pyrobo_path + '/network_models/')\n",
    "sys.path.append(pyrobo_path + '../pytools/src/')\n",
    "import multicam_net\n",
    "\n",
    "def load_all_training_data():\n",
    "    train_files = [os.path.join(episode_save_location, f)for f in os.listdir(episode_save_location) \n",
    "                   if f.endswith('.tfrecords')]\n",
    "    img_cnt = 0\n",
    "    for train_fl in train_files:\n",
    "        img_cnt+=data.TFDataReader(train_fl).count()\n",
    "    train_inp = np.zeros([2,img_cnt, 224, 224, 3], dtype=np.uint8)\n",
    "    train_labels = np.zeros([img_cnt, ], dtype=np.int32)\n",
    "    train_states = np.zeros([img_cnt, 6], dtype=np.float32)\n",
    "    train_depths = np.zeros([img_cnt, 112 * 112], dtype=np.float32)\n",
    "    idx = 0\n",
    "    for train_fl in train_files:\n",
    "        reader = data.TFDataReader(train_fl)\n",
    "        fds = reader.readall(( [\"main\", data.IMG_TYP],\n",
    "                            [\"front\",  data.IMG_TYP],\n",
    "                            [\"depth\",  data.NPY_TYP],\n",
    "                            ['motor', data.INT_TYP],\n",
    "                            ['direction', data.INT_TYP],\n",
    "                            ['motor_state',  data.FLT_TYP]))\n",
    "        \n",
    "        for fd in fds:\n",
    "            train_inp[0, idx, ...] = multicam_net.resize_to_model(fd['main'])\n",
    "            train_inp[1, idx, ...] = multicam_net.resize_to_model(fd['front'])\n",
    "            train_depths[idx, ...] = multicam_net.resize_to_model(fd['depth'], (112, 112)).reshape((112*112))\n",
    "            motor = int(fd['motor'][0])\n",
    "            direction = int(fd['direction'][0])\n",
    "            train_states[idx,:] = np.array(fd['motor_state'])\n",
    "            label = motor_2_label(motor, direction)\n",
    "            train_labels[idx] = label\n",
    "            idx+=1\n",
    "    \n",
    "    return (train_inp, train_labels, train_states, train_depths, img_cnt)\n"
   ]
  },
  {
   "cell_type": "code",
   "execution_count": null,
   "metadata": {
    "collapsed": false,
    "deletable": true,
    "editable": true
   },
   "outputs": [],
   "source": [
    "(train_inp, train_labels, train_states, train_depths, img_cnt) = load_all_training_data()"
   ]
  },
  {
   "cell_type": "code",
   "execution_count": null,
   "metadata": {
    "collapsed": false
   },
   "outputs": [],
   "source": [
    "train_depths.shape"
   ]
  },
  {
   "cell_type": "code",
   "execution_count": null,
   "metadata": {
    "collapsed": false,
    "deletable": true,
    "editable": true
   },
   "outputs": [],
   "source": [
    "vdict = dict([(v.name,v) for v in tf.global_variables()])\n",
    "\n",
    "vdict['out/weights:0'].eval(sess)"
   ]
  },
  {
   "cell_type": "markdown",
   "metadata": {
    "deletable": true,
    "editable": true
   },
   "source": [
    "### PS3 only control"
   ]
  },
  {
   "cell_type": "code",
   "execution_count": null,
   "metadata": {
    "collapsed": false,
    "deletable": true,
    "editable": true
   },
   "outputs": [],
   "source": [
    "\n",
    "try:\n",
    "    while True:\n",
    "        time.sleep(0.3)\n",
    "        pressed = get_ps3_out()\n",
    "        for press in pressed:\n",
    "            motor, direction = button_motor_map.get(press,[None, None])\n",
    "            if motor is None:\n",
    "                continue\n",
    "            update_state(motor, direction)\n",
    "finally:\n",
    "    motor_state = {0:1500, 1:1500, 2:1500, 3:1500, 4:1500, 5:1500}\n",
    "    move_robot()\n"
   ]
  },
  {
   "cell_type": "code",
   "execution_count": null,
   "metadata": {
    "collapsed": false,
    "deletable": true,
    "editable": true
   },
   "outputs": [],
   "source": [
    "sess = tf.InteractiveSession()\n",
    "sess.run(tf.global_variables_initializer())"
   ]
  },
  {
   "cell_type": "code",
   "execution_count": null,
   "metadata": {
    "collapsed": true,
    "deletable": true,
    "editable": true
   },
   "outputs": [],
   "source": [
    "saver = tf.train.Saver()\n",
    "\n",
    "saver.restore(sess, '/data/robotics/models/pick_episodes/25000_iters')"
   ]
  },
  {
   "cell_type": "code",
   "execution_count": null,
   "metadata": {
    "collapsed": false,
    "deletable": true,
    "editable": true
   },
   "outputs": [],
   "source": [
    "import cv2\n",
    "def rs(arr):\n",
    "    return cv2.resize(arr, (224, 224)).reshape((1, 224, 224, 3))\n",
    "left_im, right_im = [rs(x) for x in get_images()]\n",
    "\n",
    "out_pred = sess.run(tf.nn.softmax(net.layers['out']), { net.left_img:left_im,\n",
    "                                                    net.right_img: right_im} )\n",
    "\n",
    "print(out_pred)\n",
    "choice = np.argmax(out_pred)\n",
    "\n",
    "motor = choice/2\n",
    "direction = choice%2*2-1\n",
    "print(motor, direction)\n",
    "update_state(motor, direction)\n",
    "# def extract_motor_direction(choice)"
   ]
  },
  {
   "cell_type": "code",
   "execution_count": null,
   "metadata": {
    "collapsed": false,
    "deletable": true,
    "editable": true
   },
   "outputs": [],
   "source": [
    "example_out = tf.train.Example(features=tf.train.Features(feature={\n",
    "                'img_sz': _int32_feature((480, 640, 3))}))\n"
   ]
  },
  {
   "cell_type": "code",
   "execution_count": null,
   "metadata": {
    "collapsed": false,
    "deletable": true,
    "editable": true
   },
   "outputs": [],
   "source": [
    "img_sz = example_out.features.feature['img_sz'].int64_list.value"
   ]
  },
  {
   "cell_type": "code",
   "execution_count": null,
   "metadata": {
    "collapsed": false,
    "deletable": true,
    "editable": true
   },
   "outputs": [],
   "source": [
    "img_sz[0],img_sz[1], img_sz[2]"
   ]
  },
  {
   "cell_type": "code",
   "execution_count": null,
   "metadata": {
    "collapsed": false,
    "deletable": true,
    "editable": true
   },
   "outputs": [],
   "source": [
    "def _int32_feature(value):\n",
    "    return tf.train.Feature(int32_list=tf.train.Int32List(value=value))\n"
   ]
  },
  {
   "cell_type": "code",
   "execution_count": null,
   "metadata": {
    "collapsed": true,
    "deletable": true,
    "editable": true
   },
   "outputs": [],
   "source": [
    "from tftools import data as tfdata"
   ]
  },
  {
   "cell_type": "code",
   "execution_count": null,
   "metadata": {
    "collapsed": false,
    "deletable": true,
    "editable": true
   },
   "outputs": [],
   "source": [
    "p = np.uint8"
   ]
  },
  {
   "cell_type": "code",
   "execution_count": null,
   "metadata": {
    "collapsed": false,
    "deletable": true,
    "editable": true
   },
   "outputs": [],
   "source": [
    "%timeit col.tostring()"
   ]
  },
  {
   "cell_type": "code",
   "execution_count": null,
   "metadata": {
    "collapsed": false,
    "deletable": true,
    "editable": true
   },
   "outputs": [],
   "source": [
    "%timeit col.tobytes()"
   ]
  },
  {
   "cell_type": "code",
   "execution_count": null,
   "metadata": {
    "collapsed": true,
    "deletable": true,
    "editable": true
   },
   "outputs": [],
   "source": [
    "import cPickle\n"
   ]
  },
  {
   "cell_type": "code",
   "execution_count": null,
   "metadata": {
    "collapsed": false,
    "deletable": true,
    "editable": true
   },
   "outputs": [],
   "source": [
    "%timeit cPickle.dumps(col.dtype)"
   ]
  },
  {
   "cell_type": "code",
   "execution_count": null,
   "metadata": {
    "collapsed": false,
    "deletable": true,
    "editable": true
   },
   "outputs": [],
   "source": [
    "cPickle.dumps(col.dtype)"
   ]
  },
  {
   "cell_type": "code",
   "execution_count": null,
   "metadata": {
    "collapsed": false,
    "deletable": true,
    "editable": true
   },
   "outputs": [],
   "source": [
    "%timeit cPickle.loads(cPickle.dumps(col.dtype))"
   ]
  },
  {
   "cell_type": "markdown",
   "metadata": {
    "deletable": true,
    "editable": true
   },
   "source": [
    "### implementing spatial softmax"
   ]
  },
  {
   "cell_type": "code",
   "execution_count": null,
   "metadata": {
    "collapsed": false,
    "deletable": true,
    "editable": true
   },
   "outputs": [],
   "source": [
    "net.load('/data/models/VGG_imagenet.npy', sess, True)"
   ]
  },
  {
   "cell_type": "code",
   "execution_count": null,
   "metadata": {
    "collapsed": false,
    "deletable": true,
    "editable": true
   },
   "outputs": [],
   "source": [
    "import cv2\n",
    "im = cv2.resize(cad,(224,224))"
   ]
  },
  {
   "cell_type": "code",
   "execution_count": null,
   "metadata": {
    "collapsed": false,
    "deletable": true,
    "editable": true
   },
   "outputs": [],
   "source": [
    "im.shape"
   ]
  },
  {
   "cell_type": "code",
   "execution_count": null,
   "metadata": {
    "collapsed": false,
    "deletable": true,
    "editable": true,
    "scrolled": true
   },
   "outputs": [],
   "source": [
    "l_conv_2 = sess.run([net.layers['l_conv2_2']], {net.left_img:im.reshape(1,224,224,3)})"
   ]
  },
  {
   "cell_type": "code",
   "execution_count": null,
   "metadata": {
    "collapsed": false,
    "deletable": true,
    "editable": true
   },
   "outputs": [],
   "source": [
    "plt.imshow(l_conv_2[0][0, :, :, 1:4])"
   ]
  },
  {
   "cell_type": "code",
   "execution_count": null,
   "metadata": {
    "collapsed": true,
    "deletable": true,
    "editable": true
   },
   "outputs": [],
   "source": [
    "convout = l_conv_2[0][0, :, :, 0]"
   ]
  },
  {
   "cell_type": "code",
   "execution_count": null,
   "metadata": {
    "collapsed": false,
    "deletable": true,
    "editable": true
   },
   "outputs": [],
   "source": [
    "err = np.array([[1,0.5], [0.3, 0.7]])\n",
    "tf.nn.softmax(err).eval()"
   ]
  },
  {
   "cell_type": "code",
   "execution_count": null,
   "metadata": {
    "collapsed": false,
    "deletable": true,
    "editable": true
   },
   "outputs": [],
   "source": [
    "tf.nn.softmax(net.layers['l_conv2_2'],dim=1).shape"
   ]
  },
  {
   "cell_type": "code",
   "execution_count": null,
   "metadata": {
    "collapsed": false,
    "deletable": true,
    "editable": true
   },
   "outputs": [],
   "source": [
    "plt.imshow(col)"
   ]
  },
  {
   "cell_type": "code",
   "execution_count": null,
   "metadata": {
    "collapsed": false,
    "deletable": true,
    "editable": true,
    "scrolled": true
   },
   "outputs": [],
   "source": []
  },
  {
   "cell_type": "code",
   "execution_count": null,
   "metadata": {
    "collapsed": false,
    "deletable": true,
    "editable": true,
    "scrolled": true
   },
   "outputs": [],
   "source": [
    "num_rows = 112\n",
    "num_cols = 112\n",
    "x_map = np.empty([num_rows, num_cols], np.float32)\n",
    "y_map = np.empty([num_rows, num_cols], np.float32)\n",
    "\n",
    "for i in range(num_rows):\n",
    "    for j in range(num_cols):\n",
    "        x_map[i, j] = (i - num_rows / 2.0) / num_rows\n",
    "        y_map[i, j] = (j - num_cols / 2.0) / num_cols\n",
    "\n",
    "x_map = tf.convert_to_tensor(x_map)\n",
    "y_map = tf.convert_to_tensor(y_map)\n",
    "\n",
    "x_map = tf.reshape(x_map, [num_rows * num_cols])\n",
    "y_map = tf.reshape(y_map, [num_rows * num_cols])\n",
    "\n",
    "features = tf.reshape(tf.transpose(net.layers['l_conv2_2'], [0,3,1,2]),\n",
    "                          [-1, 128, num_rows*num_cols])\n",
    "\n",
    "softmax = tf.nn.softmax(features)\n",
    "\n",
    "fp_x = tf.reduce_sum(tf.multiply(x_map, softmax), 2)\n",
    "fp_y = tf.reduce_sum(tf.multiply(y_map, softmax), 2)\n",
    "\n",
    "fp = tf.reshape(tf.concat(axis=1,values=[fp_x, fp_y]), [-1, 128*2])"
   ]
  },
  {
   "cell_type": "code",
   "execution_count": null,
   "metadata": {
    "collapsed": false,
    "deletable": true,
    "editable": true
   },
   "outputs": [],
   "source": [
    "def spatial_softmax(input,  name):\n",
    "    \"\"\"Softmax on spatial input\"\"\"\n",
    "    batch_size, num_rows, num_cols, num_channels = [d.value for d in input.shape]\n",
    "    if batch_size is None:\n",
    "        batch_size = -1\n",
    "    \n",
    "    x_map = np.empty([num_rows, num_cols], np.float32)\n",
    "    y_map = np.empty([num_rows, num_cols], np.float32)\n",
    "\n",
    "    for i in range(num_rows):\n",
    "        for j in range(num_cols):\n",
    "            x_map[i, j] = (i - num_rows / 2.0) / num_rows\n",
    "            y_map[i, j] = (j - num_cols / 2.0) / num_cols\n",
    "\n",
    "    x_map = tf.convert_to_tensor(x_map)\n",
    "    y_map = tf.convert_to_tensor(y_map)\n",
    "\n",
    "    x_map = tf.reshape(x_map, [num_rows * num_cols])\n",
    "    y_map = tf.reshape(y_map, [num_rows * num_cols])\n",
    "\n",
    "    features = tf.reshape(tf.transpose(net.layers['l_conv2_2'], [0,3,1,2]),\n",
    "                              [batch_size, num_channels, num_rows*num_cols])\n",
    "    softmax = tf.nn.softmax(features)\n",
    "\n",
    "    fp_x = tf.reduce_sum(tf.multiply(x_map, softmax), 2)\n",
    "    fp_y = tf.reduce_sum(tf.multiply(y_map, softmax), 2)\n",
    "\n",
    "    fp = tf.reshape(tf.concat(axis=1,values=[fp_x, fp_y]), [batch_size, num_channels*2], name=name)\n",
    "    return fp"
   ]
  },
  {
   "cell_type": "code",
   "execution_count": null,
   "metadata": {
    "collapsed": false,
    "deletable": true,
    "editable": true
   },
   "outputs": [],
   "source": [
    "smax = spatial_softmax(net.layers['l_conv2_2'], 'smax')"
   ]
  },
  {
   "cell_type": "code",
   "execution_count": null,
   "metadata": {
    "collapsed": false
   },
   "outputs": [],
   "source": [
    "sm = sess.run([smax], {net.left_img:im.reshape(1,224,224,3)})"
   ]
  },
  {
   "cell_type": "code",
   "execution_count": null,
   "metadata": {
    "collapsed": false
   },
   "outputs": [],
   "source": [
    "dep_data = cv2.resize(dep, (112, 112))"
   ]
  },
  {
   "cell_type": "code",
   "execution_count": null,
   "metadata": {
    "collapsed": true
   },
   "outputs": [],
   "source": [
    "dep_pl"
   ]
  },
  {
   "cell_type": "code",
   "execution_count": null,
   "metadata": {
    "collapsed": false
   },
   "outputs": [],
   "source": [
    "softmax.shape, dep_pl.shape"
   ]
  },
  {
   "cell_type": "code",
   "execution_count": null,
   "metadata": {
    "collapsed": false
   },
   "outputs": [],
   "source": [
    "# dep_pl = tf.placeholder(shape=(None, 112*112), dtype=tf.float32)\n",
    "tf.reduce_sum((softmax*dep_pl), axis=-1).shape"
   ]
  },
  {
   "cell_type": "code",
   "execution_count": null,
   "metadata": {
    "collapsed": false
   },
   "outputs": [],
   "source": [
    "tf.reshape(softmax, shape=(None, 128, 112, 112))"
   ]
  },
  {
   "cell_type": "code",
   "execution_count": null,
   "metadata": {
    "collapsed": false
   },
   "outputs": [],
   "source": [
    "softmax.shape"
   ]
  },
  {
   "cell_type": "code",
   "execution_count": null,
   "metadata": {
    "collapsed": false,
    "deletable": true,
    "editable": true
   },
   "outputs": [],
   "source": [
    "batch_size, num_rows, num_cols, num_channels =[x.value for x in net.layers['l_conv2_2'].shape]"
   ]
  },
  {
   "cell_type": "code",
   "execution_count": null,
   "metadata": {
    "collapsed": true,
    "deletable": true,
    "editable": true
   },
   "outputs": [],
   "source": [
    "batch_size"
   ]
  },
  {
   "cell_type": "code",
   "execution_count": null,
   "metadata": {
    "collapsed": false,
    "deletable": true,
    "editable": true
   },
   "outputs": [],
   "source": [
    "num_rows.value"
   ]
  },
  {
   "cell_type": "code",
   "execution_count": null,
   "metadata": {
    "collapsed": true,
    "deletable": true,
    "editable": true
   },
   "outputs": [],
   "source": [
    "from tftools import data\n",
    "import sys\n",
    "saver = None\n",
    "episode_model_save_location = '/data/robotics/models/auto_episodic'\n",
    "\n",
    "sys.path.append(pyrobo_path + '/network_models/')\n",
    "sys.path.append(pyrobo_path + '../pytools/src/')\n",
    "from multicam_net import PurchasePredNetOffice, PurchasePredNetHome"
   ]
  },
  {
   "cell_type": "code",
   "execution_count": null,
   "metadata": {
    "collapsed": false
   },
   "outputs": [],
   "source": [
    "import multicam_net\n",
    "reload(multicam_net)\n",
    "from multicam_net import PurchasePredNetOffice"
   ]
  },
  {
   "cell_type": "code",
   "execution_count": null,
   "metadata": {
    "collapsed": true
   },
   "outputs": [],
   "source": [
    "sess=tf.Session()"
   ]
  },
  {
   "cell_type": "code",
   "execution_count": null,
   "metadata": {
    "collapsed": false
   },
   "outputs": [],
   "source": [
    "net = PurchasePredNetOffice()\n"
   ]
  },
  {
   "cell_type": "code",
   "execution_count": null,
   "metadata": {
    "collapsed": false
   },
   "outputs": [],
   "source": [
    "dt = cad.dtype\n"
   ]
  },
  {
   "cell_type": "code",
   "execution_count": null,
   "metadata": {
    "collapsed": false
   },
   "outputs": [],
   "source": [
    "sess.run(tf.global_variables_initializer())"
   ]
  },
  {
   "cell_type": "code",
   "execution_count": null,
   "metadata": {
    "collapsed": false
   },
   "outputs": [],
   "source": [
    "net = PurchasePredNetHome()"
   ]
  },
  {
   "cell_type": "code",
   "execution_count": null,
   "metadata": {
    "collapsed": false
   },
   "outputs": [],
   "source": [
    "net.load('/data/image/models/googlenet.npy', sess, True)"
   ]
  },
  {
   "cell_type": "code",
   "execution_count": null,
   "metadata": {
    "collapsed": true
   },
   "outputs": [],
   "source": [
    "gnet = np.load('/data/image/models/googlenet.npy').item()"
   ]
  },
  {
   "cell_type": "code",
   "execution_count": null,
   "metadata": {
    "collapsed": false
   },
   "outputs": [],
   "source": [
    "net.layers['l_conv3'].shape"
   ]
  },
  {
   "cell_type": "code",
   "execution_count": null,
   "metadata": {
    "collapsed": true
   },
   "outputs": [],
   "source": [
    "import tensorflow as tf"
   ]
  },
  {
   "cell_type": "code",
   "execution_count": null,
   "metadata": {
    "collapsed": true
   },
   "outputs": [],
   "source": [
    "piter = tf.python_io.tf_record_iterator('/data/robotics/auto_episodic_data/episode_3.tfrecords')"
   ]
  },
  {
   "cell_type": "code",
   "execution_count": null,
   "metadata": {
    "collapsed": true
   },
   "outputs": [],
   "source": [
    "ex = tf.train.Example()"
   ]
  },
  {
   "cell_type": "code",
   "execution_count": null,
   "metadata": {
    "collapsed": true
   },
   "outputs": [],
   "source": [
    "dat = ex.ParseFromString(piter.next())"
   ]
  },
  {
   "cell_type": "code",
   "execution_count": null,
   "metadata": {
    "collapsed": true
   },
   "outputs": [],
   "source": [
    "ftr = ex.features.feature"
   ]
  },
  {
   "cell_type": "code",
   "execution_count": null,
   "metadata": {
    "collapsed": false
   },
   "outputs": [],
   "source": [
    "class Test:\n",
    "    def test(self):\n",
    "        print self.abc()\n",
    "class T2(Test):\n",
    "    def abc(self):\n",
    "        return \"s\""
   ]
  },
  {
   "cell_type": "code",
   "execution_count": null,
   "metadata": {
    "collapsed": false
   },
   "outputs": [],
   "source": [
    "T2().test()"
   ]
  },
  {
   "cell_type": "markdown",
   "metadata": {},
   "source": [
    "### Test"
   ]
  },
  {
   "cell_type": "code",
   "execution_count": 1,
   "metadata": {
    "collapsed": true
   },
   "outputs": [],
   "source": [
    "from operator import mul\n",
    "import urllib2\n",
    "import numpy as np\n",
    "import tensorflow as tf\n",
    "import os\n",
    "import cv2"
   ]
  },
  {
   "cell_type": "code",
   "execution_count": 3,
   "metadata": {
    "collapsed": false
   },
   "outputs": [],
   "source": [
    "from tftools import data\n",
    "import sys\n",
    "saver = None\n",
    "episode_model_save_location = '/data/robotics/models/auto_episodic'\n",
    "episode_save_location = '/data/robotics/auto_episodic_data/'\n",
    "pyrobo_path = '/Users/kk/code/pyrobo/'\n",
    "\n",
    "sys.path.append(pyrobo_path + '/network_models/')\n",
    "sys.path.append(pyrobo_path + '../pytools/src/')\n"
   ]
  },
  {
   "cell_type": "code",
   "execution_count": 4,
   "metadata": {
    "collapsed": false
   },
   "outputs": [
    {
     "name": "stdout",
     "output_type": "stream",
     "text": [
      "INFO:tensorflow:Restoring parameters from /data/robotics/models/auto_episodic/episode_model_4\n"
     ]
    }
   ],
   "source": [
    "import trainer\n",
    "import ps3_control\n",
    "\n",
    "sess = tf.Session()\n",
    "\n",
    "with open(episode_save_location + '/episode', 'r') as f:\n",
    "    current_episode = int(f.readline().strip())\n",
    "\n",
    "\n",
    "# reload(trainer)\n",
    "tr = trainer.OfficeTrainer(sess, episode_model_save_location,\n",
    "                          episode_save_location, current_episode)\n",
    "\n",
    "robot_url = 'http://robot.staples.com:8888/robot/%d/%d/%d/%d/%d/%d/' \n",
    "ps3_url = 'http://solar-2.staples.com:8888/get' \n",
    "controller = ps3_control.PS3_Control(robot_url, ps3_url)"
   ]
  },
  {
   "cell_type": "code",
   "execution_count": 8,
   "metadata": {
    "collapsed": false
   },
   "outputs": [
    {
     "data": {
      "text/plain": [
       "[]"
      ]
     },
     "execution_count": 8,
     "metadata": {},
     "output_type": "execute_result"
    }
   ],
   "source": [
    "controller.get_ps3_out()"
   ]
  }
 ],
 "metadata": {
  "kernelspec": {
   "display_name": "Python 2",
   "language": "python",
   "name": "python2"
  },
  "language_info": {
   "codemirror_mode": {
    "name": "ipython",
    "version": 2
   },
   "file_extension": ".py",
   "mimetype": "text/x-python",
   "name": "python",
   "nbconvert_exporter": "python",
   "pygments_lexer": "ipython2",
   "version": "2.7.12"
  }
 },
 "nbformat": 4,
 "nbformat_minor": 2
}
