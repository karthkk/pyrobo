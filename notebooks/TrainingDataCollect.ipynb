{
 "cells": [
  {
   "cell_type": "code",
   "execution_count": null,
   "metadata": {
    "collapsed": true,
    "deletable": true,
    "editable": true
   },
   "outputs": [],
   "source": [
    "import sys\n",
    "sys.path.append('/home/karthik/code/pyrobo/src/')"
   ]
  },
  {
   "cell_type": "code",
   "execution_count": null,
   "metadata": {
    "collapsed": false,
    "deletable": true,
    "editable": true,
    "scrolled": true
   },
   "outputs": [],
   "source": [
    "import serial\n",
    "ser = serial.Serial(\"/dev/ttyACM0\")"
   ]
  },
  {
   "cell_type": "code",
   "execution_count": null,
   "metadata": {
    "collapsed": false,
    "deletable": true,
    "editable": true
   },
   "outputs": [],
   "source": [
    "ser.write(\"#2P1500#5P1500#8P1500#14P1500#15P1500#10P1500T600\\r\\n\")"
   ]
  },
  {
   "cell_type": "code",
   "execution_count": null,
   "metadata": {
    "collapsed": false,
    "deletable": true,
    "editable": true
   },
   "outputs": [],
   "source": [
    "/.ser.write(\"#2P1500#5P1500#8P1500#14P1100#15P1500#10P1500T600\\r\\n\")"
   ]
  },
  {
   "cell_type": "code",
   "execution_count": null,
   "metadata": {
    "collapsed": false,
    "deletable": true,
    "editable": true
   },
   "outputs": [],
   "source": [
    "ser.write(\"#10P1700T600\\r\\n\")"
   ]
  },
  {
   "cell_type": "code",
   "execution_count": null,
   "metadata": {
    "collapsed": true,
    "deletable": true,
    "editable": true
   },
   "outputs": [],
   "source": [
    "ser.close()"
   ]
  },
  {
   "cell_type": "code",
   "execution_count": null,
   "metadata": {
    "collapsed": false,
    "deletable": true,
    "editable": true
   },
   "outputs": [],
   "source": [
    "import numpy as np\n",
    "import tensorflow as tf"
   ]
  },
  {
   "cell_type": "markdown",
   "metadata": {
    "deletable": true,
    "editable": true
   },
   "source": [
    "### Robot lib"
   ]
  },
  {
   "cell_type": "code",
   "execution_count": null,
   "metadata": {
    "collapsed": false,
    "deletable": true,
    "editable": true
   },
   "outputs": [],
   "source": [
    "from transforms import Tx, Ty, Tz, Rx, Ry, Rz\n",
    "robo_init = {2:1500, 5:1500, 8:1500, 14:1500, 15:1500, 10:1500 }\n",
    "\n",
    "L1Z = 100; L2X = 25; L2Z = 10; L3Z = 100; L4Z = 100; L5Z = 25; L5X = 50; L6X = 190;\n",
    "        \n",
    "def robot_function_base(q1, q2, q3, q4, q5):\n",
    "    return Tz(L1Z)*Rz(q1)*Tx(L2X)*Tz(L2Z)*Ry(q2)*Tz(L3Z)*Ry(-q3)*Tz(L4Z)*Ry(-q4)*Tz(L5Z)*Tx(L5X)*Rx(q5)*Tx(L6X)\n",
    "\n",
    "    \n",
    "def robot_function(q):\n",
    "    return robot_function_base(q[0], q[1], q[2], q[3], q[4])\n",
    "    \n",
    "MOTOR_PORTS = [2, 5, 8, 14, 15, 10]\n",
    "\n",
    "def radian_to_pulse_width(angle_in_radians):\n",
    "    return 2*angle_in_radians/pi*1000 + 1500\n",
    "\n",
    "def pulse_width_to_radians(pulse_width):\n",
    "    return (pulse_width - 1500)/2000*np.pi\n",
    "\n",
    "def fkine_from_pw(pwarr):\n",
    "    q = [pulse_width_to_radians(x) for x in pwarr]\n",
    "    print q\n",
    "    return robot_function(q)\n",
    "\n",
    "def thr_to_zero(mtrx):\n",
    "    mtrx[mtrx<1e-8] = 0\n",
    "    return mtrx\n",
    "\n",
    "def is_valid(mtrx):\n",
    "    z = mtrx[2,3]\n",
    "    x = mtrx[0,3]\n",
    "    if z<20:\n",
    "        return False\n",
    "    if x < 40 and z < 300:\n",
    "        return False\n",
    "    return True\n",
    "\n",
    "def is_feasible_pos(pos):\n",
    "    mtrx = fkine_from_pw([pos[mtr] for mtr in MOTOR_PORTS])\n",
    "    return is_valid(mtrx)\n",
    "\n",
    "def random_step():\n",
    "    if np.random.rand() < 0.5:\n",
    "        return -100\n",
    "    return 100\n",
    "\n",
    "def get_random_move(init_pos):\n",
    "    motor_pos = init_pos.items()\n",
    "    final_pos = init_pos.copy()\n",
    "    motor, current_pos = motor_pos[np.random.randint(len(motor_pos))]\n",
    "    final_pos[motor] = current_pos + random_step()\n",
    "    return final_pos\n",
    "\n",
    "def valid_random_move(init_pos):\n",
    "    final_position = get_random_move(init_pos)\n",
    "    while not is_feasible_pos(final_position):\n",
    "        final_position = get_random_move(init_pos)\n",
    "    return final_position\n",
    "\n",
    "def to_move_string(pos):\n",
    "    pos_str = ''.join(map(lambda (motor_id, post): \"#%dP%d\" % (motor_id, post),\n",
    "                                  pos.items()))+\"T%d\\r\\n\" % 600\n",
    "    return pos_str"
   ]
  },
  {
   "cell_type": "markdown",
   "metadata": {
    "deletable": true,
    "editable": true
   },
   "source": [
    "### Camera lib"
   ]
  },
  {
   "cell_type": "code",
   "execution_count": null,
   "metadata": {
    "collapsed": true,
    "deletable": true,
    "editable": true
   },
   "outputs": [],
   "source": [
    "from operator import mul\n",
    "import urllib2\n",
    "\n",
    "im_shape = (480, 640, 3)\n",
    "im_sz = reduce(mul, im_shape)\n",
    "\n",
    "def from_buffer(im_str):\n",
    "    f1 = np.fromstring(im_str, dtype=np.uint8)\n",
    "    return f1.reshape((480, 640, 3))    \n",
    "    \n",
    "def get_images():\n",
    "    response=urllib2.urlopen('http://localhost:8888/')\n",
    "    left = from_buffer(response.read(im_sz))\n",
    "    right = from_buffer(response.read(im_sz))\n",
    "    response.close()\n",
    "    return left, right\n"
   ]
  },
  {
   "cell_type": "code",
   "execution_count": null,
   "metadata": {
    "collapsed": true,
    "deletable": true,
    "editable": true
   },
   "outputs": [],
   "source": [
    "%matplotlib inline\n",
    "from matplotlib import pyplot as pl"
   ]
  },
  {
   "cell_type": "code",
   "execution_count": null,
   "metadata": {
    "collapsed": false,
    "deletable": true,
    "editable": true
   },
   "outputs": [],
   "source": [
    "left, right = get_images()\n",
    "\n",
    "pl.imshow(right)"
   ]
  },
  {
   "cell_type": "code",
   "execution_count": null,
   "metadata": {
    "collapsed": true,
    "deletable": true,
    "editable": true
   },
   "outputs": [],
   "source": [
    "def _int64_feature(value):\n",
    "    return tf.train.Feature(int64_list=tf.train.Int64List(value=[value]))\n",
    "\n",
    "def _bytes_feature(value):\n",
    "    return tf.train.Feature(bytes_list=tf.train.BytesList(value=[value]))\n",
    "\n",
    "def _float_feature(value):\n",
    "    return tf.train.Feature(float_list=tf.train.FloatList(value=value))\n"
   ]
  },
  {
   "cell_type": "code",
   "execution_count": null,
   "metadata": {
    "collapsed": false,
    "deletable": true,
    "editable": true
   },
   "outputs": [],
   "source": [
    "current_pos = robo_init\n",
    "ms = to_move_string(current_pos)\n",
    "ser.write(ms + '\\n')\n"
   ]
  },
  {
   "cell_type": "code",
   "execution_count": null,
   "metadata": {
    "collapsed": false,
    "deletable": true,
    "editable": true,
    "scrolled": true
   },
   "outputs": [],
   "source": [
    "import time\n",
    "\n",
    "example = tf.train.Example()\n",
    "filename = '/data/robotics/raw_position_images/train_2' + '.tfrecords'\n",
    "writer = tf.python_io.TFRecordWriter(filename)\n",
    "\n",
    "for j in range(10):\n",
    "    current_pos = robo_init\n",
    "    ms = to_move_string(current_pos)\n",
    "    ser.write(ms + '\\pi pi n')\n",
    "    for i in range(50):\n",
    "        current_pos = valid_random_move(current_pos)\n",
    "        ms = to_move_string(current_pos)\n",
    "        print ms\n",
    "        mpos = [current_pos[2], current_pos[5], current_pos[8], current_pos[14], current_pos[15], current_pos[10]]\n",
    "        print mpos\n",
    "        ser.write(ms + '\\n')\n",
    "        time.sleep( 2)\n",
    "        (left, right) = get_images()\n",
    "        example_out = tf.train.Example(features=tf.train.Features(feature={\n",
    "                'pos': _float_feature(mpos),\n",
    "                'left_image': _bytes_feature(left.tostring()),\n",
    "                'right_image': _bytes_feature(right.tostring())}))\n",
    "        writer.write(example_out.SerializeToString())\n",
    "        print i,j\n",
    "    \n",
    "\n",
    "writer.close()        \n"
   ]
  },
  {
   "cell_type": "markdown",
   "metadata": {
    "collapsed": true,
    "deletable": true,
    "editable": true
   },
   "source": [
    "pi = tf.python_io.tf_record_iterator(filename)"
   ]
  },
  {
   "cell_type": "code",
   "execution_count": null,
   "metadata": {
    "collapsed": false,
    "deletable": true,
    "editable": true
   },
   "outputs": [],
   "source": [
    "example.ParseFromString(pi.next())\n",
    "\n",
    "dat = np.fromstring(example.features.feature[\"left_image\"].bytes_list.value[0], dtype=np.uint8)\n",
    "\n",
    "pl.imshow(dat.reshape((480, 640, 3)))"
   ]
  }
 ],
 "metadata": {
  "kernelspec": {
   "display_name": "Python 2",
   "language": "python",
   "name": "python2"
  },
  "language_info": {
   "codemirror_mode": {
    "name": "ipython",
    "version": 2
   },
   "file_extension": ".py",
   "mimetype": "text/x-python",
   "name": "python",
   "nbconvert_exporter": "python",
   "pygments_lexer": "ipython2",
   "version": "2.7.12"
  }
 },
 "nbformat": 4,
 "nbformat_minor": 0
}
