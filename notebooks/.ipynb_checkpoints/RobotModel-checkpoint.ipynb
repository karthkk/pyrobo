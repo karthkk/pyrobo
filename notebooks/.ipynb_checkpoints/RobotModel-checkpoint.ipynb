{
 "cells": [
  {
   "cell_type": "code",
   "execution_count": 1,
   "metadata": {
    "collapsed": true,
    "deletable": true,
    "editable": true
   },
   "outputs": [],
   "source": [
    "import sys\n",
    "import matplotlib.pyplot as plt\n",
    "%matplotlib inline\n",
    "\n"
   ]
  },
  {
   "cell_type": "code",
   "execution_count": 2,
   "metadata": {
    "collapsed": true,
    "deletable": true,
    "editable": true
   },
   "outputs": [],
   "source": [
    "from autograd.numpy import pi, mat, cos, sin, zeros, eye, array\n",
    "import autograd.numpy as np\n",
    "from autograd.numpy import concatenate\n",
    "\n",
    "def rotx(theta):\n",
    "    \"\"\"\n",
    "    Rotation about X-axis\n",
    "\n",
    "    @type theta: number\n",
    "    @param theta: the rotation angle\n",
    "    @rtype: 3x3 orthonormal matrix\n",
    "    @return: rotation about X-axis\n",
    "\n",
    "    @see: L{roty}, L{rotz}, L{rotvec}\n",
    "    \"\"\"\n",
    "\n",
    "    ct = cos(theta)\n",
    "    st = sin(theta)\n",
    "    return np.array([[1,  0,    0,  0],\n",
    "                     [0,  ct, -st,  0],\n",
    "                     [0,  st,  ct,  0],\n",
    "                     [0,  0,    0,  1]])\n",
    "\n",
    "def roty(theta):\n",
    "    \"\"\"\n",
    "    Rotation about Y-axis\n",
    "\n",
    "    @type theta: number\n",
    "    @param theta: the rotation angle\n",
    "    @rtype: 3x3 orthonormal matrix\n",
    "    @return: rotation about Y-axis\n",
    "\n",
    "    @see: L{rotx}, L{rotz}, L{rotvec}\n",
    "    \"\"\"\n",
    "\n",
    "    ct = cos(theta)\n",
    "    st = sin(theta)\n",
    "\n",
    "    return np.array([[ct,   0,   st, 0],\n",
    "                     [0,    1,    0, 0],\n",
    "                     [-st,  0,   ct, 0],\n",
    "                     [  0,  0,    0, 1]])\n",
    "\n",
    "def rotz(theta):\n",
    "    \"\"\"\n",
    "    Rotation about Z-axis\n",
    "\n",
    "    @type theta: number\n",
    "    @param theta: the rotation angle\n",
    "    @rtype: 3x3 orthonormal matrix\n",
    "    @return: rotation about Z-axis\n",
    "\n",
    "    @see: L{rotx}, L{roty}, L{rotvec}\n",
    "    \"\"\"\n",
    "\n",
    "    ct = cos(theta)\n",
    "    st = sin(theta)\n",
    "\n",
    "    return np.array([[ct,      -st,  0, 0],\n",
    "                     [st,       ct,  0, 0],\n",
    "                     [ 0,        0,  1, 0],\n",
    "                     [ 0,        0,  0, 1]])\n",
    "\n",
    "def trotx(theta):\n",
    "    return rotx(theta)\n",
    "\n",
    "def troty(theta):\n",
    "    return roty(theta)\n",
    "\n",
    "def trotz(theta):\n",
    "    return rotz(theta)\n",
    "\n",
    "\n",
    "##################### Euler ang\n",
    "def transl(x, y=None, z=None):\n",
    "    return np.array([[1., 0, 0, x],\n",
    "                     [0, 1, 0, y],\n",
    "                     [0, 0, 1, z],\n",
    "                     [0, 0, 0, 1]])\n",
    "\n",
    "def r2t(R):\n",
    "    \"\"\"\n",
    "    Convert a 3x3 orthonormal rotation matrix to a 4x4 homogeneous transformation::\n",
    "\n",
    "        T = | R 0 |\n",
    "            | 0 1 |\n",
    "\n",
    "    @type R: 3x3 orthonormal rotation matrix\n",
    "    @param R: the rotation matrix to convert\n",
    "    @rtype: 4x4 homogeneous matrix\n",
    "    @return: homogeneous equivalent\n",
    "    \"\"\"\n",
    "\n",
    "    return concatenate( (concatenate( (R, zeros((3,1))),1), np.array([0,0,0,1])) )\n",
    "\n",
    "\n",
    "Tz = lambda z: transl(x=0, y=0, z=z)\n",
    "Ty = lambda y: transl(x=0, y=y, z=0)\n",
    "Tx = lambda x: transl(x=x, y=0, z=0)\n",
    "Rx = lambda x: trotx(x)\n",
    "Ry = lambda y: troty(y)\n",
    "Rz = lambda z: trotz(z)\n"
   ]
  },
  {
   "cell_type": "code",
   "execution_count": 3,
   "metadata": {
    "collapsed": true,
    "deletable": true,
    "editable": true
   },
   "outputs": [],
   "source": [
    "L1Z = 100; L2X = -25; L2Z = 12; L3Z = 100; L4Z = 100; L5Z = 25; L5X = 50; L6X = 150;\n",
    "def dodot(lst):\n",
    "    current = lst[0]\n",
    "    for res in lst[1:]:\n",
    "        current = np.dot(current, res)\n",
    "    return current\n",
    "\n",
    "def robot_function_base(q1, q2, q3, q4):\n",
    "    return dodot([Tz(L1Z),Rz(q1),Tx(L2X),Tz(L2Z),Ry(-q2),Tz(L3Z),Ry(-q3),Tz(L4Z),Ry(-q4),Tz(L5Z),Tx(L5X),Tx(L6X)])\n"
   ]
  },
  {
   "cell_type": "code",
   "execution_count": 4,
   "metadata": {
    "collapsed": true,
    "deletable": true,
    "editable": true
   },
   "outputs": [],
   "source": [
    "from __future__ import absolute_import, division\n",
    "from __future__ import print_function\n",
    "import autograd.numpy as np\n",
    "import autograd.numpy.random as npr\n",
    "from autograd.scipy.misc import logsumexp\n",
    "from autograd import grad\n",
    "from autograd.util import flatten\n",
    "from autograd.optimizers import adam\n",
    "\n"
   ]
  },
  {
   "cell_type": "code",
   "execution_count": 10,
   "metadata": {
    "collapsed": true
   },
   "outputs": [],
   "source": [
    "from autograd.optimizers import sgd"
   ]
  },
  {
   "cell_type": "code",
   "execution_count": 5,
   "metadata": {
    "collapsed": true,
    "deletable": true,
    "editable": true
   },
   "outputs": [],
   "source": [
    "def init_random_params(scale, rs=npr.RandomState(0)):\n",
    "    \"\"\"Build a list of parameters, xt, yt, zt, alpha, beta, gamma\"\"\"\n",
    "    return [scale * rs.randn() for i in range(6)]\n",
    "\n",
    "def armpos_predict(params, inputs):\n",
    "    \"\"\" predict the robots position as measured by camera\"\"\"\n",
    "    xt, yt, zt, alpha, beta, gamma = params\n",
    "    q1, q2, q3, q4 = inputs\n",
    "    armpos_robot = robot_function_base(q1,q2,q3,q4)\n",
    "    armpos_cam = dodot( [armpos_robot, transl(xt,yt,zt), rotz(alpha), roty(beta), rotx(gamma)] )  \n",
    "    return armpos_cam[:3,3]/1000\n",
    "\n",
    "def l2_norm(params):\n",
    "    \"\"\"Computes l2 norm of params by flattening them into a vector.\"\"\"\n",
    "    flattened, _ = flatten(params)\n",
    "    return np.dot(flattened, flattened)\n",
    "\n",
    "def mean_squared_error(params, inputs, targets):\n",
    "    armpos = armpos_predict(params, inputs[0][:4])\n",
    "    return l2_norm(armpos - targets)\n",
    "#     log_prior = -L2_reg * l2_norm(params)\n",
    "#     log_lik = np.sum(neural_net_predict(params, inputs) * targets)\n",
    "#     return log_prior + log_lik\n",
    "\n",
    "def accuracy(params, inputs, targets):\n",
    "    target_class    = np.argmax(targets, axis=1)\n",
    "    predicted_class = np.argmax(neural_net_predict(params, inputs[:4]), axis=1)\n",
    "    return np.mean(predicted_class == target_class)\n"
   ]
  },
  {
   "cell_type": "code",
   "execution_count": 6,
   "metadata": {
    "collapsed": true,
    "deletable": true,
    "editable": true
   },
   "outputs": [],
   "source": [
    "import cPickle\n",
    "with open('/data/robotics/motors_to_camera/motor_to_measured.pkl') as f:\n",
    "    data = cPickle.load(f)"
   ]
  },
  {
   "cell_type": "code",
   "execution_count": 7,
   "metadata": {
    "collapsed": false,
    "deletable": true,
    "editable": true
   },
   "outputs": [],
   "source": [
    "train = data[:200]\n",
    "test = data[200:]"
   ]
  },
  {
   "cell_type": "code",
   "execution_count": null,
   "metadata": {
    "collapsed": false,
    "deletable": true,
    "editable": true
   },
   "outputs": [],
   "source": [
    "inp, target = train[0]\n",
    "\n",
    "params = init_random_params(0.3)\n",
    "\n",
    "mean_squared_error(params, inp, target)"
   ]
  },
  {
   "cell_type": "code",
   "execution_count": null,
   "metadata": {
    "collapsed": true,
    "deletable": true,
    "editable": true
   },
   "outputs": [],
   "source": []
  },
  {
   "cell_type": "code",
   "execution_count": null,
   "metadata": {
    "collapsed": false,
    "deletable": true,
    "editable": true
   },
   "outputs": [],
   "source": [
    "np.array(dx).shape, np.array(lbls).shape"
   ]
  },
  {
   "cell_type": "code",
   "execution_count": 28,
   "metadata": {
    "collapsed": true
   },
   "outputs": [],
   "source": [
    "?adam"
   ]
  },
  {
   "cell_type": "code",
   "execution_count": null,
   "metadata": {
    "collapsed": false,
    "deletable": true,
    "editable": true
   },
   "outputs": [
    {
     "name": "stdout",
     "output_type": "stream",
     "text": [
      "     Epoch     |    Train accuracy  |       Test accuracy  \n",
      "              0|     0.0573764077715\n",
      "         100000|     0.0573769041599\n",
      "         200000|     0.0573774006362\n",
      "         300000|     0.0573778971266\n"
     ]
    }
   ],
   "source": [
    "batch_size = 1\n",
    "param_scale = 0.2\n",
    "init_params = [-292.06198881701295,\n",
    " -22.784240722069956,\n",
    " 275.69960736375606,\n",
    " 0.4481786398402916,\n",
    " 0.37351159802999351,\n",
    " -0.19545557597528221]\n",
    "\n",
    "num_batches = int(np.ceil(len(train) / batch_size))\n",
    "def batch_indices(iter):\n",
    "    idx = iter % num_batches\n",
    "    return slice(idx * batch_size, (idx+1) * batch_size)\n",
    "\n",
    "    # Define training objective\n",
    "def objective(params, iter):\n",
    "    idx = batch_indices(iter)\n",
    "    pos, target = zip(*train[idx])\n",
    "    return mean_squared_error(params, pos, target)\n",
    "\n",
    "objective_grad = grad(objective)\n",
    "\n",
    "print(\"     Epoch     |    Train accuracy  |       Test accuracy  \")\n",
    "def print_perf(params, iter, gradient):\n",
    "    if iter % 100000 == 0:\n",
    "        idx = batch_indices(iter)\n",
    "        pos, target = zip(*train[idx])\n",
    "        mse = mean_squared_error(params, pos, target)\n",
    "        print(\"{:15}|{:20}\".format(iter, mse))\n",
    "\n",
    "    # The optimizers provided can optimize lists, tuples, or dicts of parameters.\n",
    "optimized_params_2 = sgd(objective_grad, init_params, step_size=0.0001,\n",
    "                            num_iters=400000, callback=print_perf)\n"
   ]
  },
  {
   "cell_type": "code",
   "execution_count": 27,
   "metadata": {
    "collapsed": false
   },
   "outputs": [
    {
     "name": "stdout",
     "output_type": "stream",
     "text": [
      "[ 0.03399955 -0.01878003  0.60688039] [ 0.18367539 -0.07997099  0.69374353]\n"
     ]
    },
    {
     "data": {
      "text/plain": [
       "0.03369239863569766"
      ]
     },
     "execution_count": 27,
     "metadata": {},
     "output_type": "execute_result"
    }
   ],
   "source": [
    "inp_ts, targ_ts = test[4]\n",
    "print(armpos_predict(optimized_params, inp_ts[:4]), targ_ts)\n",
    "\n",
    "l2_norm(armpos_predict(optimized_params, inp_ts[:4])- targ_ts)"
   ]
  },
  {
   "cell_type": "code",
   "execution_count": 9,
   "metadata": {
    "collapsed": false,
    "deletable": true,
    "editable": true
   },
   "outputs": [
    {
     "data": {
      "text/plain": [
       "[-292.06198881701295,\n",
       " -22.784240722069956,\n",
       " 275.69960736375606,\n",
       " 0.4481786398402916,\n",
       " 0.37351159802999351,\n",
       " -0.19545557597528221]"
      ]
     },
     "execution_count": 9,
     "metadata": {},
     "output_type": "execute_result"
    }
   ],
   "source": [
    "optimized_params"
   ]
  },
  {
   "cell_type": "markdown",
   "metadata": {
    "deletable": true,
    "editable": true
   },
   "source": [
    "### Using sympy to check homogenous transformation matrix"
   ]
  },
  {
   "cell_type": "code",
   "execution_count": null,
   "metadata": {
    "collapsed": false,
    "deletable": true,
    "editable": true
   },
   "outputs": [],
   "source": [
    "import sympy\n",
    "xt, yt, zt, alpha, beta, gamma = sympy.symbols(\"xt, yt, zt, alpha, beta, gamma\")\n",
    "\n",
    "def sym_rotx(theta):\n",
    "    ct = sympy.cos(theta)\n",
    "    st = sympy.sin(theta)\n",
    "    return sympy.Matrix([[1,  0,    0,  0],\n",
    "                     [0,  ct, -st,  0],\n",
    "                     [0,  st,  ct,  0],\n",
    "                     [0,  0,    0,  1]])\n",
    "\n",
    "def sym_roty(theta):\n",
    "    ct = sympy.cos(theta)\n",
    "    st = sympy.sin(theta)\n",
    "\n",
    "    return sympy.Matrix([[ct,   0,   st, 0],\n",
    "                     [0,    1,    0, 0],\n",
    "                     [-st,  0,   ct, 0],\n",
    "                     [  0,  0,    0, 1]])\n",
    "\n",
    "def sym_rotz(theta):\n",
    "    ct = sympy.cos(theta)\n",
    "    st = sympy.sin(theta)\n",
    "\n",
    "    return sympy.Matrix([[ct,      -st,  0, 0],\n",
    "                     [st,       ct,  0, 0],\n",
    "                     [ 0,        0,  1, 0],\n",
    "                     [ 0,        0,  0, 1]])\n",
    "\n",
    "def transl(x, y=None, z=None):\n",
    "    return sympy.Matrix([[1., 0, 0, x],\n",
    "                     [0, 1, 0, y],\n",
    "                     [0, 0, 1, z],\n",
    "                     [0, 0, 0, 1]])\n",
    "\n",
    "\n",
    "\n",
    "transl(xt,yt,zt) * sym_rotz(alpha)*sym_roty(beta)*sym_rotx(gamma)"
   ]
  }
 ],
 "metadata": {
  "kernelspec": {
   "display_name": "Python 2",
   "language": "python",
   "name": "python2"
  },
  "language_info": {
   "codemirror_mode": {
    "name": "ipython",
    "version": 2
   },
   "file_extension": ".py",
   "mimetype": "text/x-python",
   "name": "python",
   "nbconvert_exporter": "python",
   "pygments_lexer": "ipython2",
   "version": "2.7.12"
  }
 },
 "nbformat": 4,
 "nbformat_minor": 2
}
