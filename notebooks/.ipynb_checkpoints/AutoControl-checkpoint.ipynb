{
 "cells": [
  {
   "cell_type": "code",
   "execution_count": 1,
   "metadata": {
    "collapsed": true
   },
   "outputs": [],
   "source": [
    "import numpy as np"
   ]
  },
  {
   "cell_type": "code",
   "execution_count": 24,
   "metadata": {
    "collapsed": true
   },
   "outputs": [],
   "source": [
    "dat = np.load('/data/image/models/VGG_imagenet.npy')"
   ]
  },
  {
   "cell_type": "code",
   "execution_count": 25,
   "metadata": {
    "collapsed": false
   },
   "outputs": [],
   "source": [
    "di = dat.item()"
   ]
  },
  {
   "cell_type": "code",
   "execution_count": 30,
   "metadata": {
    "collapsed": false
   },
   "outputs": [
    {
     "data": {
      "text/plain": [
       "['conv5_1',\n",
       " 'fc6',\n",
       " 'conv5_3',\n",
       " 'fc7',\n",
       " 'fc8',\n",
       " 'conv5_2',\n",
       " 'conv4_1',\n",
       " 'conv4_2',\n",
       " 'conv4_3',\n",
       " 'conv3_3',\n",
       " 'conv3_2',\n",
       " 'conv3_1',\n",
       " 'conv1_1',\n",
       " 'conv1_2',\n",
       " 'conv2_2',\n",
       " 'conv2_1']"
      ]
     },
     "execution_count": 30,
     "metadata": {},
     "output_type": "execute_result"
    }
   ],
   "source": [
    "di.keys()"
   ]
  },
  {
   "cell_type": "code",
   "execution_count": 37,
   "metadata": {
    "collapsed": false
   },
   "outputs": [],
   "source": [
    "f_left = lambda x: 'l_'+x if x.startswith('conv') else x\n",
    "f_right = lambda x: 'r_'+x if x.startswith('conv') else x\n",
    "def vgg_to_transforms(model, transforms):\n",
    "    out = {}\n",
    "    for key in model.keys():\n",
    "        v = model[key]\n",
    "        for transform in transforms:\n",
    "            out_ky = transform(key)\n",
    "            if out_ky not in out:\n",
    "                out[out_ky] = v\n",
    "    return out\n",
    "\n",
    "out_dict = vgg_to_transforms(di, [f_left, f_right])\n"
   ]
  },
  {
   "cell_type": "code",
   "execution_count": 38,
   "metadata": {
    "collapsed": false
   },
   "outputs": [
    {
     "data": {
      "text/plain": [
       "['l_conv2_1',\n",
       " 'r_conv2_2',\n",
       " 'fc6',\n",
       " 'fc7',\n",
       " 'fc8',\n",
       " 'l_conv1_1',\n",
       " 'r_conv2_1',\n",
       " 'l_conv2_2',\n",
       " 'l_conv1_2',\n",
       " 'l_conv5_2',\n",
       " 'l_conv5_3',\n",
       " 'l_conv5_1',\n",
       " 'l_conv4_3',\n",
       " 'l_conv4_2',\n",
       " 'l_conv4_1',\n",
       " 'r_conv5_1',\n",
       " 'r_conv5_2',\n",
       " 'r_conv5_3',\n",
       " 'r_conv4_1',\n",
       " 'r_conv4_3',\n",
       " 'r_conv4_2',\n",
       " 'r_conv1_1',\n",
       " 'r_conv1_2',\n",
       " 'r_conv3_3',\n",
       " 'l_conv3_3',\n",
       " 'r_conv3_2',\n",
       " 'l_conv3_1',\n",
       " 'l_conv3_2',\n",
       " 'r_conv3_1']"
      ]
     },
     "execution_count": 38,
     "metadata": {},
     "output_type": "execute_result"
    }
   ],
   "source": [
    "out_dict.keys()"
   ]
  }
 ],
 "metadata": {
  "kernelspec": {
   "display_name": "Python 2",
   "language": "python",
   "name": "python2"
  },
  "language_info": {
   "codemirror_mode": {
    "name": "ipython",
    "version": 2
   },
   "file_extension": ".py",
   "mimetype": "text/x-python",
   "name": "python",
   "nbconvert_exporter": "python",
   "pygments_lexer": "ipython2",
   "version": "2.7.12"
  }
 },
 "nbformat": 4,
 "nbformat_minor": 2
}
