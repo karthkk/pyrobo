{
 "cells": [
  {
   "cell_type": "code",
   "execution_count": 1,
   "metadata": {
    "collapsed": true
   },
   "outputs": [],
   "source": [
    "import sys\n",
    "sys.path.append('/home/karthik/code/pyrobo/src/')"
   ]
  },
  {
   "cell_type": "code",
   "execution_count": 2,
   "metadata": {
    "collapsed": false,
    "scrolled": true
   },
   "outputs": [],
   "source": [
    "import serial\n",
    "ser = serial.Serial(\"/dev/ttyACM0\")"
   ]
  },
  {
   "cell_type": "code",
   "execution_count": 4,
   "metadata": {
    "collapsed": false
   },
   "outputs": [
    {
     "data": {
      "text/plain": [
       "51"
      ]
     },
     "execution_count": 4,
     "metadata": {},
     "output_type": "execute_result"
    }
   ],
   "source": [
    "ser.write(\"#2P1500#5P1500#8P1500#14P1500#15P1500#10P1500T600\\r\\n\")"
   ]
  },
  {
   "cell_type": "code",
   "execution_count": 21,
   "metadata": {
    "collapsed": false
   },
   "outputs": [
    {
     "data": {
      "text/plain": [
       "51"
      ]
     },
     "execution_count": 21,
     "metadata": {},
     "output_type": "execute_result"
    }
   ],
   "source": [
    "ser.write(\"#2P1500#5P1500#8P1500#14P1100#15P1500#10P1500T600\\r\\n\")"
   ]
  },
  {
   "cell_type": "code",
   "execution_count": 5,
   "metadata": {
    "collapsed": false
   },
   "outputs": [
    {
     "data": {
      "text/plain": [
       "14"
      ]
     },
     "execution_count": 5,
     "metadata": {},
     "output_type": "execute_result"
    }
   ],
   "source": [
    "ser.write(\"#10P1700T600\\r\\n\")"
   ]
  },
  {
   "cell_type": "code",
   "execution_count": null,
   "metadata": {
    "collapsed": true
   },
   "outputs": [],
   "source": [
    "ser.close()"
   ]
  },
  {
   "cell_type": "code",
   "execution_count": null,
   "metadata": {
    "collapsed": false
   },
   "outputs": [],
   "source": [
    "%pylab inline"
   ]
  },
  {
   "cell_type": "code",
   "execution_count": 3,
   "metadata": {
    "collapsed": false
   },
   "outputs": [],
   "source": [
    "robo_init = {2:1500, 5:1500, 8:1500, 14:1500, 15:1500, 10:1500 }\n",
    "\n",
    "L1Z = 100; L2X = 25; L2Z = 10; L3Z = 100; L4Z = 100; L5Z = 25; L5X = 50; L6X = 190;\n",
    "        \n",
    "def robot_function_base(q1, q2, q3, q4, q5):\n",
    "    return Tz(L1Z)*Rz(q1)*Tx(L2X)*Tz(L2Z)*Ry(q2)*Tz(L3Z)*Ry(-q3)*Tz(L4Z)*Ry(-q4)*Tz(L5Z)*Tx(L5X)*Rx(q5)*Tx(L6X)\n",
    "\n",
    "    \n",
    "def robot_function(q):\n",
    "    return robot_function_base(q[0], q[1], q[2], q[3], q[4])\n",
    "    \n",
    "MOTOR_PORTS = [2, 5, 8, 14, 15, 10]\n",
    "\n",
    "def radian_to_pulse_width(angle_in_radians):\n",
    "    return 2*angle_in_radians/pi*1000 + 1500\n",
    "\n",
    "def pulse_width_to_radians(pulse_width):\n",
    "    return (pulse_width - 1500)/2000*np.pi\n",
    "\n",
    "def fkine_from_pw(pwarr):\n",
    "    q = [pulse_width_to_radians(x) for x in pwarr]\n",
    "    print q\n",
    "    return robot_function(q)\n",
    "\n",
    "def thr_to_zero(mtrx):\n",
    "    mtrx[mtrx<1e-8] = 0\n",
    "    return mtrx\n",
    "\n",
    "def is_valid(mtrx):\n",
    "    z = mtrx[2,3]\n",
    "    x = mtrx[0,3]\n",
    "    if z<20:\n",
    "        return False\n",
    "    if x < 40 and z < 300:\n",
    "        return False\n",
    "    return True\n",
    "\n",
    "def is_feasible_pos(pos):\n",
    "    mtrx = fkine_from_pw([pos[mtr] for mtr in MOTOR_PORTS])\n",
    "    return is_valid(mtrx)\n",
    "\n",
    "def random_step():\n",
    "    if np.random.rand() < 0.5:\n",
    "        return -50\n",
    "    return 50\n",
    "\n",
    "def get_random_move(init_pos):\n",
    "    motor_pos = init_pos.items()\n",
    "    final_pos = init_pos.copy()\n",
    "    motor, current_pos = motor_pos[np.random.randint(len(motor_pos))]\n",
    "    final_pos[motor] = current_pos + random_step()\n",
    "    return final_pos\n",
    "\n",
    "def valid_random_move(init_pos):\n",
    "    final_position = get_random_move(init_pos)\n",
    "    while not is_feasible_pos(final_position):\n",
    "        final_position = get_random_move(init_pos)\n",
    "    return final_position\n",
    "\n",
    "def to_move_string(pos):\n",
    "    pos_str = ''.join(map(lambda (motor_id, post): \"#%dP%d\" % (motor_id, post),\n",
    "                                  pos.items()))+\"T%d\\r\\n\" % 600\n",
    "    return pos_str"
   ]
  },
  {
   "cell_type": "code",
   "execution_count": 5,
   "metadata": {
    "collapsed": false
   },
   "outputs": [],
   "source": [
    "to_move_string(robo_init)"
   ]
  },
  {
   "cell_type": "code",
   "execution_count": 34,
   "metadata": {
    "collapsed": false
   },
   "outputs": [
    {
     "name": "stdout",
     "output_type": "stream",
     "text": [
      "[0.0, 0.0, 0.0, 0.0, 0.0, -3.141592653589793]\n"
     ]
    },
    {
     "data": {
      "text/plain": [
       "{2: 1500, 5: 1500, 8: 1500, 10: 1450, 14: 1500, 15: 1500}"
      ]
     },
     "execution_count": 34,
     "metadata": {},
     "output_type": "execute_result"
    }
   ],
   "source": [
    "valid_random_move(robo_init)"
   ]
  },
  {
   "cell_type": "code",
   "execution_count": 25,
   "metadata": {
    "collapsed": false
   },
   "outputs": [
    {
     "data": {
      "text/plain": [
       "2"
      ]
     },
     "execution_count": 25,
     "metadata": {},
     "output_type": "execute_result"
    }
   ],
   "source": [
    "np.random.randint(\n",
    "    3)"
   ]
  },
  {
   "cell_type": "code",
   "execution_count": 18,
   "metadata": {
    "collapsed": false
   },
   "outputs": [
    {
     "name": "stdout",
     "output_type": "stream",
     "text": [
      "[0.0, 0.0, 0.0, 0.0, 0.0, 0.0]\n"
     ]
    }
   ],
   "source": [
    "mtrx = fkine_from_pw([1500 for i in range(6)])"
   ]
  },
  {
   "cell_type": "code",
   "execution_count": 24,
   "metadata": {
    "collapsed": false
   },
   "outputs": [
    {
     "data": {
      "text/plain": [
       "335.0"
      ]
     },
     "execution_count": 24,
     "metadata": {},
     "output_type": "execute_result"
    }
   ],
   "source": [
    "mtrx[2,3]"
   ]
  },
  {
   "cell_type": "code",
   "execution_count": 17,
   "metadata": {
    "collapsed": false
   },
   "outputs": [
    {
     "data": {
      "text/plain": [
       "matrix([[   0.87758256,    0.        ,    0.        ,  232.5593789 ],\n",
       "        [   0.47942554,    0.87758256,    0.        ,  127.04776773],\n",
       "        [   0.        ,    0.        ,    1.        ,  335.        ],\n",
       "        [   0.        ,    0.        ,    0.        ,    1.        ]])"
      ]
     },
     "execution_count": 17,
     "metadata": {},
     "output_type": "execute_result"
    }
   ],
   "source": [
    "import numpy as np\n",
    "from transforms import *\n",
    "\n",
    "res = robot_function([0.5,0,0,0,0])\n",
    "res[res<1e-8] = 0\n",
    "res"
   ]
  },
  {
   "cell_type": "code",
   "execution_count": null,
   "metadata": {
    "collapsed": true
   },
   "outputs": [],
   "source": [
    "import pylibcam\n",
    "import pyelas\n",
    "import cv2\n",
    "import pylab as pl\n",
    "import numpy as np\n",
    "import os\n",
    "import sys\n",
    "import time"
   ]
  },
  {
   "cell_type": "code",
   "execution_count": null,
   "metadata": {
    "collapsed": false
   },
   "outputs": [],
   "source": [
    "ser.write(\"#16P1500#14P1500#12P1700#10P1200#8P1200#6P1900T600\\r\\n\")\n",
    "cam_1 = pylibcam.PyCamera('/dev/video1', 640, 480, 5)\n",
    "cam_2 = pylibcam.PyCamera('/dev/video2', 640, 480, 5)\n",
    "# cam_1.setExposure(1)\n",
    "# cam_2.setExposure(1)\n",
    "cam_1.setBrightness(1)\n",
    "cam_2.setBrightness(1)\n",
    "for i in range(4):\n",
    "    time.sleep(2)\n",
    "    cam_1.update(25,1000)\n",
    "    cam_2.update(25,1000)\n",
    "cam_1.update(25,1000)\n",
    "cam_2.update(25,1000)\n",
    "img_1 = cam_1.toRGB()\n",
    "img_2 = cam_2.toRGB()\n",
    "# cam_1.StopCam()\n",
    "# cam_2.StopCam()\n",
    "# img = np.zeros((480, 640*2, 3), dtype=img_1.dtype)\n",
    "# img[:,:640,:] = img_1\n",
    "# img[:,640:,:] = img_2\n",
    "# pl.imshow(img)"
   ]
  },
  {
   "cell_type": "code",
   "execution_count": null,
   "metadata": {
    "collapsed": false
   },
   "outputs": [],
   "source": [
    "ser.write(\"#16P1500#14P1500#12P1500#10P1500#8P1500#6P1500T600\\r\\n\")\n",
    "time.sleep(1)\n",
    "for i in range(6):\n",
    "    cam_1.update(25,1000)\n",
    "    cam_2.update(25,1000)\n",
    "img_1 = cam_1.toRGB()\n",
    "img_2 = cam_2.toRGB()\n",
    "\n",
    "img = np.zeros((480, 640*2, 3), dtype=img_1.dtype)\n",
    "img[:,:640,:] = img_1\n",
    "img[:,640:,:] = img_2\n",
    "pl.imshow(img)"
   ]
  },
  {
   "cell_type": "code",
   "execution_count": null,
   "metadata": {
    "collapsed": false
   },
   "outputs": [],
   "source": [
    "time.sleep(2)\n",
    "cam_1.update(25,1000)\n",
    "cam_2.update(25,1000)\n",
    "img_1 = cam_1.toRGB()\n",
    "img_2 = cam_2.toRGB()\n",
    "\n",
    "img = np.zeros((480, 640*2, 3), dtype=img_1.dtype)\n",
    "img[:,:640,:] = img_1\n",
    "img[:,640:,:] = img_2\n",
    "pl.imshow(img)"
   ]
  },
  {
   "cell_type": "code",
   "execution_count": null,
   "metadata": {
    "collapsed": true
   },
   "outputs": [],
   "source": [
    "cam_1.StopCam()\n",
    "cam_2.StopCam()\n"
   ]
  },
  {
   "cell_type": "code",
   "execution_count": null,
   "metadata": {
    "collapsed": true
   },
   "outputs": [],
   "source": [
    "fig, ax = plt.subplots()\n",
    "# fig.canvas.mpl_connect('key_press_event', press)\n",
    "# fig.canvas.mpl_connect('key_release_event', release)\n",
    "\n",
    "ax.imshow(img)\n",
    "xl = ax.set_xlabel('x-axis')\n",
    "\n",
    "plt.show()"
   ]
  }
 ],
 "metadata": {
  "kernelspec": {
   "display_name": "Python 2",
   "language": "python",
   "name": "python2"
  },
  "language_info": {
   "codemirror_mode": {
    "name": "ipython",
    "version": 2
   },
   "file_extension": ".py",
   "mimetype": "text/x-python",
   "name": "python",
   "nbconvert_exporter": "python",
   "pygments_lexer": "ipython2",
   "version": "2.7.12"
  }
 },
 "nbformat": 4,
 "nbformat_minor": 0
}
