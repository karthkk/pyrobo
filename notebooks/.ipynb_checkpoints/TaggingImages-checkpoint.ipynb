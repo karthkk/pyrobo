{
 "cells": [
  {
   "cell_type": "code",
   "execution_count": 2,
   "metadata": {
    "collapsed": true
   },
   "outputs": [],
   "source": [
    "import tensorflow as tf\n",
    "import numpy as np"
   ]
  },
  {
   "cell_type": "code",
   "execution_count": 1,
   "metadata": {
    "collapsed": true
   },
   "outputs": [],
   "source": [
    "filename = '/data/robotics/raw_position_images/train_3' + '.tfrecords'\n"
   ]
  },
  {
   "cell_type": "code",
   "execution_count": 3,
   "metadata": {
    "collapsed": true
   },
   "outputs": [],
   "source": [
    "%matplotlib notebook\n",
    "from matplotlib import pyplot as pl"
   ]
  },
  {
   "cell_type": "code",
   "execution_count": null,
   "metadata": {
    "collapsed": true
   },
   "outputs": [],
   "source": []
  },
  {
   "cell_type": "code",
   "execution_count": null,
   "metadata": {
    "collapsed": false
   },
   "outputs": [],
   "source": [
    "example = tf.train.Example()\n",
    "pi = tf.python_io.tf_record_iterator(filename)\n",
    "example.ParseFromString(pi.next())\n",
    "\n",
    "dat = np.fromstring(example.features.feature[\"left_image\"].bytes_list.value[0], dtype=np.uint8)\n",
    "\n",
    "pl.imshow(dat.reshape((480, 640, 3)))"
   ]
  },
  {
   "cell_type": "code",
   "execution_count": null,
   "metadata": {
    "collapsed": false
   },
   "outputs": [],
   "source": [
    "dat = np.fromstring(example.features.feature[\"right_image\"].bytes_list.value[0], dtype=np.uint8)\n",
    "\n",
    "pl.imshow(dat.reshape((480, 640, 3)))"
   ]
  },
  {
   "cell_type": "code",
   "execution_count": null,
   "metadata": {
    "collapsed": true
   },
   "outputs": [],
   "source": [
    "from scipy.signal import convolve2d\n",
    "from scipy.ndimage.filters import gaussian_filter\n"
   ]
  },
  {
   "cell_type": "code",
   "execution_count": null,
   "metadata": {
    "collapsed": false
   },
   "outputs": [],
   "source": [
    "example.features.feature['pos']"
   ]
  },
  {
   "cell_type": "code",
   "execution_count": null,
   "metadata": {
    "collapsed": true
   },
   "outputs": [],
   "source": [
    "\n",
    "def extract_endeff_pos(im):\n",
    "    dfs = im - np.array([128, 0, 128])\n",
    "    dfnrm = np.linalg.norm(dfs, axis=2)\n",
    "    maxidx = np.argmax(gaussian_filter(np.exp(-0.01*dfnrm), 2))\n",
    "    x, y = maxidx/640, maxidx%640\n",
    "    return np.array((float(x),float(y)))\n",
    "\n",
    "def extract_image(example, feature_name):\n",
    "    dat = np.fromstring(example.features.feature[feature_name].bytes_list.value[0], dtype=np.uint8)\n",
    "    return dat.reshape((480, 640, 3))\n",
    "    \n",
    "def extract_features(example):\n",
    "    right_im = extract_image(example, \"right_image\")\n",
    "    left_im = extract_image(example, \"left_image\")\n",
    "    pos = np.array(example.features.feature['pos'].float_list.value)\n",
    "    return np.concatenate([extract_endeff_pos(left_im), extract_endeff_pos(right_im),  pos])"
   ]
  },
  {
   "cell_type": "code",
   "execution_count": null,
   "metadata": {
    "collapsed": false
   },
   "outputs": [],
   "source": [
    "filename = '/data/robotics/raw_position_images/train.tfrecords'\n",
    "\n",
    "pi = tf.python_io.tf_record_iterator(filename)\n",
    "\n",
    "with open('/data/robotics/motors_to_camera/features', 'w') as f:\n",
    "    for nxtexmpl in pi:\n",
    "        example.ParseFromString(nxtexmpl)\n",
    "        f.write(','.join([str(x) for x in extract_features(example)]))\n",
    "        f.write('\\n')"
   ]
  },
  {
   "cell_type": "code",
   "execution_count": null,
   "metadata": {
    "collapsed": false
   },
   "outputs": [],
   "source": [
    "inp = tf.Variable((None, 6))\n",
    "W = "
   ]
  },
  {
   "cell_type": "code",
   "execution_count": null,
   "metadata": {
    "collapsed": false
   },
   "outputs": [],
   "source": [
    "pl.imshow(im)"
   ]
  },
  {
   "cell_type": "code",
   "execution_count": null,
   "metadata": {
    "collapsed": false
   },
   "outputs": [],
   "source": [
    "pl.imshow(gaussian_filter(np.exp(-0.01*dfnrm), 2)[30:100, 300: 400])"
   ]
  },
  {
   "cell_type": "code",
   "execution_count": null,
   "metadata": {
    "collapsed": false
   },
   "outputs": [],
   "source": [
    "ls = [1,2,3,4, 5, 6, 7]\n",
    "for c in ls:\n",
    "    ls.remove(c)\n",
    "ls"
   ]
  },
  {
   "cell_type": "code",
   "execution_count": null,
   "metadata": {
    "collapsed": false
   },
   "outputs": [],
   "source": [
    "\n",
    "\n",
    "\n",
    "dat = np.fromstring(example.features.feature[\"left_image\"].bytes_list.value[0], dtype=np.uint8)\n",
    "im = dat.reshape((480, 640, 3))\n",
    "dfs = im - np.array([128, 0, 128])\n",
    "dfnrm = np.linalg.norm(dfs, axis=2)\n",
    "fig, ax = plt.subplots(figsize=(12, 12))\n",
    "pl.imshow(np.exp(-0.01*dfnrm))\n",
    "\n"
   ]
  },
  {
   "cell_type": "code",
   "execution_count": null,
   "metadata": {
    "collapsed": false
   },
   "outputs": [],
   "source": [
    "from matplotlib import pyplot as plt\n",
    "\n",
    "class LineBuilder:\n",
    "    def __init__(self, line):\n",
    "        self.started = False\n",
    "        self.line = line\n",
    "        self.xs = list(line.get_xdata())\n",
    "        self.ys = list(line.get_ydata())\n",
    "        self.x_0 = None\n",
    "        self.y_0 = None\n",
    "        self.cidpress = self.line.figure.canvas.mpl_connect(\n",
    "            'button_press_event', self.on_press)\n",
    "        self.cidrelease = self.line.figure.canvas.mpl_connect(\n",
    "            'button_release_event', self.on_release)\n",
    "        self.cidmotion = self.line.figure.canvas.mpl_connect(\n",
    "            'motion_notify_event', self.on_motion)\n",
    "        \n",
    "        \n",
    "    def on_press(self, event):\n",
    "        self.x_0 = event.xdata\n",
    "        self.y_0 = event.ydata\n",
    "        self.started = True\n",
    "    \n",
    "    def on_release(self, event):\n",
    "        x_press, y_press = event.xdata, event.ydata\n",
    "        self.started = False\n",
    "        self.draw_box(event)\n",
    "        \n",
    "    def draw_box(self, event):\n",
    "        self.x_press, self.y_press = event.xdata, event.ydata\n",
    "        self.xs = [self.x_0, self.x_press, self.x_press, self.x_0, self.x_0]\n",
    "        self.ys = [self.y_0, self.y_0, self.y_press, self.y_press, self.y_0]\n",
    "        self.line.set_data(self.xs, self.ys)\n",
    "        self.line.figure.canvas.draw()\n",
    "    \n",
    "    def on_motion(self, event):\n",
    "        if not self.started:\n",
    "            return\n",
    "        if np.random.random() < 0.25:\n",
    "            self.draw_box(event)\n",
    "\n",
    "fig, ax = plt.subplots(figsize=(12, 12))\n",
    "ax.imshow(im)\n",
    "ax.set_title('click to mark bounding box')\n",
    "line, = ax.plot([0], [0])  # empty line\n",
    "linebuilder = LineBuilder(line)\n",
    "plt.show()"
   ]
  },
  {
   "cell_type": "code",
   "execution_count": null,
   "metadata": {
    "collapsed": true
   },
   "outputs": [],
   "source": [
    "from tftools import network as nw\n",
    "\n",
    "class Trqe2PosNw(nw.Network):\n",
    "    def __init__(self, trainable=True):\n",
    "        self.data = tf.placeholder(tf.float32, shape=[None, 4])\n",
    "        self.layers = dict({'data':self.data})\n",
    "        self.trainable = trainable\n",
    "        self.setup()\n",
    "        \n",
    "    def setup(self):\n",
    "        self.feed('data').fc(8).sigmoid().fc(8).fc(4, relu=False)"
   ]
  },
  {
   "cell_type": "code",
   "execution_count": null,
   "metadata": {
    "collapsed": true
   },
   "outputs": [],
   "source": [
    "sess.close()"
   ]
  },
  {
   "cell_type": "code",
   "execution_count": null,
   "metadata": {
    "collapsed": false
   },
   "outputs": [],
   "source": [
    "nwrk = Trqe2PosNw()"
   ]
  },
  {
   "cell_type": "code",
   "execution_count": null,
   "metadata": {
    "collapsed": false
   },
   "outputs": [],
   "source": [
    "y = tf.placeholder(tf.float32, shape=[None,4 ])\n",
    "loss = tf.reduce_mean(tf.square(y-nwrk.get_output()))\n",
    "\n",
    "optimizer = tf.train.GradientDescentOptimizer(0.01)\n",
    "\n",
    "\n",
    "train_op = optimizer.minimize(loss)"
   ]
  },
  {
   "cell_type": "code",
   "execution_count": null,
   "metadata": {
    "collapsed": true
   },
   "outputs": [],
   "source": [
    "sess = tf.InteractiveSession()"
   ]
  },
  {
   "cell_type": "code",
   "execution_count": null,
   "metadata": {
    "collapsed": true
   },
   "outputs": [],
   "source": [
    "sess.run(tf.global_variables_initializer())"
   ]
  },
  {
   "cell_type": "code",
   "execution_count": null,
   "metadata": {
    "collapsed": true
   },
   "outputs": [],
   "source": [
    "with open('/data/robotics/motors_to_camera/features') as f:\n",
    "    dat = np.array([map(float, ln.split(',')) for ln in  f.readlines()])"
   ]
  },
  {
   "cell_type": "code",
   "execution_count": null,
   "metadata": {
    "collapsed": false
   },
   "outputs": [],
   "source": [
    "for i in range(10000):\n",
    "    _, losval = sess.run([train_op, loss], {nwrk.data: dat[:,4:], y:dat[:, :4]})\n",
    "    if i%1000 == 0:\n",
    "        print losval"
   ]
  },
  {
   "cell_type": "code",
   "execution_count": null,
   "metadata": {
    "collapsed": false
   },
   "outputs": [],
   "source": [
    "sess.close()"
   ]
  },
  {
   "cell_type": "code",
   "execution_count": null,
   "metadata": {
    "collapsed": true
   },
   "outputs": [],
   "source": []
  }
 ],
 "metadata": {
  "kernelspec": {
   "display_name": "Python 2",
   "language": "python",
   "name": "python2"
  },
  "language_info": {
   "codemirror_mode": {
    "name": "ipython",
    "version": 2
   },
   "file_extension": ".py",
   "mimetype": "text/x-python",
   "name": "python",
   "nbconvert_exporter": "python",
   "pygments_lexer": "ipython2",
   "version": "2.7.12"
  }
 },
 "nbformat": 4,
 "nbformat_minor": 0
}
