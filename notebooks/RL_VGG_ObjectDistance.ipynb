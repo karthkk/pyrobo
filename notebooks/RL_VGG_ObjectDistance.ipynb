{
 "cells": [
  {
   "cell_type": "code",
   "execution_count": 1,
   "metadata": {
    "collapsed": true
   },
   "outputs": [],
   "source": [
    "import tensorflow as tf\n",
    "import numpy as np\n",
    "from tftools import network as ntwrk"
   ]
  },
  {
   "cell_type": "code",
   "execution_count": null,
   "metadata": {
    "collapsed": true
   },
   "outputs": [],
   "source": [
    "VGG_MEAN = [103.939, 116.779, 123.68]\n",
    "\n",
    "class VGGNtwrk(ntwrk.Network):\n",
    "    def __init__(self,trainable=True):\n",
    "        self.data = tf.placeholder(tf.float32, shape=[None, 224, 224, 3])\n",
    "        red, green, blue = tf.split(3, 3, self.data)\n",
    "        bgr = tf.concat(3, [\n",
    "            blue - VGG_MEAN[0],\n",
    "            green - VGG_MEAN[1],\n",
    "            red - VGG_MEAN[2],\n",
    "        ])\n",
    "        self.layers = dict({'data':bgr})\n",
    "        self.trainable = trainable\n",
    "        self.setup()\n",
    "        \n",
    "    def setup(self):\n",
    "        (self.feed('data')\n",
    "             .conv(3, 3, 64, 1, 1, name='conv1_1')\n",
    "             .conv(3, 3, 64, 1, 1, name='conv1_2')\n",
    "             .max_pool(2, 2, 2, 2, padding='VALID', name='pool1')\n",
    "             .conv(3, 3, 128, 1, 1, name='conv2_1')\n",
    "             .conv(3, 3, 128, 1, 1, name='conv2_2')\n",
    "             .max_pool(2, 2, 2, 2, padding='VALID', name='pool2')\n",
    "             .conv(3, 3, 256, 1, 1, name='conv3_1')\n",
    "             .conv(3, 3, 256, 1, 1, name='conv3_2')\n",
    "             .conv(3, 3, 256, 1, 1, name='conv3_3')\n",
    "             .max_pool(2, 2, 2, 2, padding='VALID', name='pool3')\n",
    "             .conv(3, 3, 512, 1, 1, name='conv4_1')\n",
    "             .conv(3, 3, 512, 1, 1, name='conv4_2')\n",
    "             .conv(3, 3, 512, 1, 1, name='conv4_3')\n",
    "             .max_pool(2, 2, 2, 2, padding='VALID', name='pool4')\n",
    "             .conv(3, 3, 512, 1, 1, name='conv5_1')\n",
    "             .conv(3, 3, 512, 1, 1, name='conv5_2')\n",
    "             .conv(3, 3, 512, 1, 1, name='conv5_3')\n",
    "             .max_pool(2,2,2,2, padding='VALID', name='pool5') \n",
    "             .fc(4096, name='fc6').fc(4096, name='fc7')\n",
    "             .fc(1000,  name='fc8').softmax(name='prob'))"
   ]
  },
  {
   "cell_type": "code",
   "execution_count": null,
   "metadata": {
    "collapsed": false
   },
   "outputs": [],
   "source": [
    "sess = tf.Session()\n",
    "\n",
    "vgg16 = VGGNtwrk()\n",
    "\n",
    "vgg16.load('/data/image/models/VGG_imagenet.npy', sess)"
   ]
  },
  {
   "cell_type": "code",
   "execution_count": 6,
   "metadata": {
    "collapsed": true
   },
   "outputs": [],
   "source": [
    "VGG_MEAN = [103.939, 116.779, 123.68]\n",
    "\n",
    "class ScorePredictor(ntwrk.Network):\n",
    "    \n",
    "    def normalize(self, im):\n",
    "        red, green, blue = tf.split(3, 3, im)\n",
    "        bgr = tf.concat(3, [\n",
    "            blue - VGG_MEAN[0],\n",
    "            green - VGG_MEAN[1],\n",
    "            red - VGG_MEAN[2],\n",
    "        ])\n",
    "        return bgr\n",
    "    \n",
    "    def __init__(self,trainable=True):\n",
    "        self.data_left = tf.placeholder(tf.float32, shape=[None, 224, 224, 3])\n",
    "        self.data_right = tf.placeholder(tf.float32, shape=[None, 224, 224, 3])\n",
    "        self.layers = dict({'data_left':self.normalize(self.data_left), \n",
    "                            'data_right':self.normalize(self.data_right)})\n",
    "        self.trainable = trainable\n",
    "        self.setup()\n",
    "        \n",
    "    def setup(self):\n",
    "        (self.feed('data_left')\n",
    "             .conv(3, 3, 64, 1, 1, name='conv1_1', trainable=False, reuse=False)\n",
    "             .conv(3, 3, 64, 1, 1, name='conv1_2', trainable=False, reuse=False)\n",
    "             .max_pool(2, 2, 2, 2, padding='VALID', name='pool1')\n",
    "             .conv(3, 3, 128, 1, 1, name='conv2_1', trainable=False, reuse=False)\n",
    "             .conv(3, 3, 128, 1, 1, name='conv2_2', trainable=False, reuse=False)\n",
    "             .max_pool(2, 2, 2, 2, padding='VALID', name='pool2')\n",
    "             .conv(3, 3, 256, 1, 1, name='conv3_1', trainable=False, reuse=False)\n",
    "             .conv(3, 3, 256, 1, 1, name='conv3_2', trainable=False, reuse=False)\n",
    "             .conv(3, 3, 256, 1, 1, name='conv3_3', trainable=False, reuse=False)\n",
    "             .max_pool(2, 2, 2, 2, padding='VALID', name='pool3')\n",
    "             .conv(3, 3, 512, 1, 1, name='conv4_1', reuse=False)\n",
    "             .conv(3, 3, 512, 1, 1, name='conv4_2', reuse=False)\n",
    "             .conv(3, 3, 512, 1, 1, name='conv4_3', reuse=False)\n",
    "             .max_pool(2, 2, 2, 2, padding='VALID', name='pool4')\n",
    "             .conv(3, 3, 512, 1, 1, name='conv5_1', reuse=False)\n",
    "             .conv(3, 3, 512, 1, 1, name='conv5_2', reuse=False)\n",
    "             .conv(3, 3, 512, 1, 1, name='conv5_3', reuse=False)\n",
    "             .max_pool(2,2,2,2, padding='VALID', name='pool5') \n",
    "             .fc(512, name='fc6_common', reuse=False).fc(128, name='fc7_left'))\n",
    "        \n",
    "        (self.feed('data_right')\n",
    "             .conv(3, 3, 64, 1, 1, name='conv1_1', trainable=False, reuse=True)\n",
    "             .conv(3, 3, 64, 1, 1, name='conv1_2', trainable=False, reuse=True)\n",
    "             .max_pool(2, 2, 2, 2, padding='VALID', name='pool1')\n",
    "             .conv(3, 3, 128, 1, 1, name='conv2_1', trainable=False, reuse=True)\n",
    "             .conv(3, 3, 128, 1, 1, name='conv2_2', trainable=False, reuse=True)\n",
    "             .max_pool(2, 2, 2, 2, padding='VALID', name='pool2')\n",
    "             .conv(3, 3, 256, 1, 1, name='conv3_1', trainable=False, reuse=True)\n",
    "             .conv(3, 3, 256, 1, 1, name='conv3_2', trainable=False, reuse=True)\n",
    "             .conv(3, 3, 256, 1, 1, name='conv3_3', trainable=False, reuse=True)\n",
    "             .max_pool(2, 2, 2, 2, padding='VALID', name='pool3')\n",
    "             .conv(3, 3, 512, 1, 1, name='conv4_1', reuse=True)\n",
    "             .conv(3, 3, 512, 1, 1, name='conv4_2', reuse=True)\n",
    "             .conv(3, 3, 512, 1, 1, name='conv4_3', reuse=True)\n",
    "             .max_pool(2, 2, 2, 2, padding='VALID', name='pool4')\n",
    "             .conv(3, 3, 512, 1, 1, name='conv5_1', reuse=True)\n",
    "             .conv(3, 3, 512, 1, 1, name='conv5_2', reuse=True)\n",
    "             .conv(3, 3, 512, 1, 1, name='conv5_3', reuse=True)\n",
    "             .max_pool(2,2,2,2, padding='VALID', name='pool5') \n",
    "             .fc(512, name='fc6_common', reuse=True).fc(128, name='fc7_right'))\n",
    "         \n",
    "        (self.feed('fc7_left', 'fc7_right').concat(1).fc(32, name='fc8').fc(1, name='fc9', relu=False))\n",
    "         \n",
    "        \n"
   ]
  },
  {
   "cell_type": "code",
   "execution_count": 3,
   "metadata": {
    "collapsed": false
   },
   "outputs": [],
   "source": [
    "sess = tf.Session()\n",
    "\n",
    "robnw = ScorePredictor()\n"
   ]
  },
  {
   "cell_type": "code",
   "execution_count": 5,
   "metadata": {
    "collapsed": false
   },
   "outputs": [],
   "source": [
    "robnw.load('/data/image/models/VGG_imagenet.npy', sess, ignore_missing=True)"
   ]
  },
  {
   "cell_type": "code",
   "execution_count": null,
   "metadata": {
    "collapsed": true
   },
   "outputs": [],
   "source": [
    "?tf.get_variable"
   ]
  }
 ],
 "metadata": {
  "kernelspec": {
   "display_name": "Python 2",
   "language": "python",
   "name": "python2"
  },
  "language_info": {
   "codemirror_mode": {
    "name": "ipython",
    "version": 2
   },
   "file_extension": ".py",
   "mimetype": "text/x-python",
   "name": "python",
   "nbconvert_exporter": "python",
   "pygments_lexer": "ipython2",
   "version": "2.7.12"
  }
 },
 "nbformat": 4,
 "nbformat_minor": 0
}
